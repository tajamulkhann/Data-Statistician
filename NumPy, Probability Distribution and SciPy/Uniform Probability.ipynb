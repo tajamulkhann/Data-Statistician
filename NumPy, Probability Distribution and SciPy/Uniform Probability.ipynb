{
 "cells": [
  {
   "cell_type": "code",
   "execution_count": 32,
   "id": "0b734d71",
   "metadata": {},
   "outputs": [],
   "source": [
    "from scipy.stats import uniform"
   ]
  },
  {
   "cell_type": "markdown",
   "id": "a2a7d7d4",
   "metadata": {},
   "source": [
    "# On average, 30 minutes TV shows have 22 minutes of actual program. Let's assume the probability distribution for number of minutes of actial program is uniform from a low of 18min to the high of 26min. What is the probability the show will have at least 25 minutes of programming?"
   ]
  },
  {
   "cell_type": "markdown",
   "id": "1fb40f81",
   "metadata": {},
   "source": [
    "loc: low boundary; scale: high - low boundary"
   ]
  },
  {
   "cell_type": "code",
   "execution_count": 41,
   "id": "5f14c56a",
   "metadata": {},
   "outputs": [
    {
     "data": {
      "text/plain": [
       "0.125"
      ]
     },
     "execution_count": 41,
     "metadata": {},
     "output_type": "execute_result"
    }
   ],
   "source": [
    "1 - uniform.cdf(x = 25, loc = 18, scale = 8)"
   ]
  },
  {
   "cell_type": "markdown",
   "id": "6ccec2b5",
   "metadata": {},
   "source": [
    "# What is the probability the show will have between 21 and 25 minutes of programming?"
   ]
  },
  {
   "cell_type": "code",
   "execution_count": 43,
   "id": "2ee4813e",
   "metadata": {},
   "outputs": [
    {
     "data": {
      "text/plain": [
       "0.5"
      ]
     },
     "execution_count": 43,
     "metadata": {},
     "output_type": "execute_result"
    }
   ],
   "source": [
    "uniform.cdf(x = 25, loc = 18, scale = 8) - uniform.cdf(x = 21, loc = 18, scale = 8)"
   ]
  },
  {
   "cell_type": "markdown",
   "id": "a05043b8",
   "metadata": {},
   "source": [
    "# Which value is associated with 0.50 Probability?"
   ]
  },
  {
   "cell_type": "code",
   "execution_count": 47,
   "id": "88ad9a44",
   "metadata": {},
   "outputs": [
    {
     "data": {
      "text/plain": [
       "22.0"
      ]
     },
     "execution_count": 47,
     "metadata": {},
     "output_type": "execute_result"
    }
   ],
   "source": [
    "from scipy import stats\n",
    "stats.uniform.ppf(q = 0.5, loc = 18, scale = 8)"
   ]
  }
 ],
 "metadata": {
  "kernelspec": {
   "display_name": "Python 3 (ipykernel)",
   "language": "python",
   "name": "python3"
  },
  "language_info": {
   "codemirror_mode": {
    "name": "ipython",
    "version": 3
   },
   "file_extension": ".py",
   "mimetype": "text/x-python",
   "name": "python",
   "nbconvert_exporter": "python",
   "pygments_lexer": "ipython3",
   "version": "3.9.7"
  }
 },
 "nbformat": 4,
 "nbformat_minor": 5
}
