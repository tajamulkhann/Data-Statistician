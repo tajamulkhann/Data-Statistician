{
 "cells": [
  {
   "cell_type": "code",
   "execution_count": 5,
   "id": "9adbfe17",
   "metadata": {},
   "outputs": [],
   "source": [
    "import numpy as np\n",
    "import matplotlib.pyplot as plt\n",
    "import seaborn as sns\n",
    "from scipy.stats import poisson"
   ]
  },
  {
   "cell_type": "code",
   "execution_count": 8,
   "id": "9a2f544e",
   "metadata": {},
   "outputs": [
    {
     "data": {
      "text/plain": [
       "0.04248414026930935"
      ]
     },
     "execution_count": 8,
     "metadata": {},
     "output_type": "execute_result"
    }
   ],
   "source": [
    "mu = 3.6\n",
    "exact_seven = 7\n",
    "poisson.pmf(exact_seven, mu)"
   ]
  },
  {
   "cell_type": "code",
   "execution_count": 10,
   "id": "2d021643",
   "metadata": {},
   "outputs": [
    {
     "data": {
      "text/plain": [
       "0.9692107246403425"
      ]
     },
     "execution_count": 10,
     "metadata": {},
     "output_type": "execute_result"
    }
   ],
   "source": [
    "seven_or_less = poisson.cdf(7,mu)\n",
    "seven_or_less"
   ]
  },
  {
   "cell_type": "code",
   "execution_count": 24,
   "id": "1570db91",
   "metadata": {},
   "outputs": [
    {
     "data": {
      "text/plain": [
       "0.07327341562896683"
      ]
     },
     "execution_count": 24,
     "metadata": {},
     "output_type": "execute_result"
    }
   ],
   "source": [
    "seven_or_most = 1 - poisson.cdf(6,mu)\n",
    "seven_or_most"
   ]
  },
  {
   "cell_type": "code",
   "execution_count": 12,
   "id": "6107791c",
   "metadata": {},
   "outputs": [
    {
     "data": {
      "text/plain": [
       "3.6"
      ]
     },
     "execution_count": 12,
     "metadata": {},
     "output_type": "execute_result"
    }
   ],
   "source": [
    "poisson.mean(3.6)"
   ]
  },
  {
   "cell_type": "code",
   "execution_count": 13,
   "id": "334aa1e2",
   "metadata": {},
   "outputs": [
    {
     "data": {
      "text/plain": [
       "3.6"
      ]
     },
     "execution_count": 13,
     "metadata": {},
     "output_type": "execute_result"
    }
   ],
   "source": [
    "poisson.var(3.6)"
   ]
  },
  {
   "cell_type": "code",
   "execution_count": 15,
   "id": "7a312724",
   "metadata": {},
   "outputs": [
    {
     "data": {
      "text/plain": [
       "1.8973665961010275"
      ]
     },
     "execution_count": 15,
     "metadata": {},
     "output_type": "execute_result"
    }
   ],
   "source": [
    "poisson.std(3.6)"
   ]
  },
  {
   "cell_type": "code",
   "execution_count": 26,
   "id": "b76bf9cb",
   "metadata": {},
   "outputs": [
    {
     "data": {
      "image/png": "[encoded data removed]",
      "text/plain": [
       "<Figure size 432x288 with 1 Axes>"
      ]
     },
     "metadata": {},
     "output_type": "display_data"
    }
   ],
   "source": [
    "sns.set_theme(style = 'darkgrid')\n",
    "x_ax = np.arange(0,11)\n",
    "y_ax = poisson.pmf(x_ax, 3.6)\n",
    "sns.barplot(x = x_ax, y = y_ax)\n",
    "plt.show()"
   ]
  },
  {
   "cell_type": "code",
   "execution_count": 25,
   "id": "10066e0c",
   "metadata": {},
   "outputs": [
    {
     "data": {
      "image/png": "[encoded data removed]",
      "text/plain": [
       "<Figure size 432x288 with 1 Axes>"
      ]
     },
     "metadata": {},
     "output_type": "display_data"
    }
   ],
   "source": [
    "y_ax = poisson.cdf(x_ax, 3.6)\n",
    "sns.barplot(x = x_ax, y = y_ax)\n",
    "plt.show()"
   ]
  }
 ],
 "metadata": {
  "kernelspec": {
   "display_name": "Python 3 (ipykernel)",
   "language": "python",
   "name": "python3"
  },
  "language_info": {
   "codemirror_mode": {
    "name": "ipython",
    "version": 3
   },
   "file_extension": ".py",
   "mimetype": "text/x-python",
   "name": "python",
   "nbconvert_exporter": "python",
   "pygments_lexer": "ipython3",
   "version": "3.9.7"
  }
 },
 "nbformat": 4,
 "nbformat_minor": 5
}
