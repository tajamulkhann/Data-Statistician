{
 "cells": [
  {
   "cell_type": "code",
   "execution_count": 106,
   "id": "7b611626",
   "metadata": {},
   "outputs": [],
   "source": [
    "import numpy as np\n",
    "import matplotlib.pyplot as pl\n",
    "import seaborn as sns\n",
    "from scipy.stats import binom"
   ]
  },
  {
   "cell_type": "code",
   "execution_count": 34,
   "id": "e5b970ed",
   "metadata": {},
   "outputs": [
    {
     "data": {
      "text/plain": [
       "1"
      ]
     },
     "execution_count": 34,
     "metadata": {},
     "output_type": "execute_result"
    }
   ],
   "source": [
    "one_coin_one_time = np.random.binomial(1,0.50)\n",
    "one_coin_one_time"
   ]
  },
  {
   "cell_type": "code",
   "execution_count": 38,
   "id": "d8bef23a",
   "metadata": {},
   "outputs": [
    {
     "data": {
      "text/plain": [
       "array([1, 1, 1, 1, 1, 0, 1, 1, 1, 0])"
      ]
     },
     "execution_count": 38,
     "metadata": {},
     "output_type": "execute_result"
    }
   ],
   "source": [
    "one_coin_ten_times = np.random.binomial(1,0.50,10)\n",
    "one_coin_ten_times"
   ]
  },
  {
   "cell_type": "code",
   "execution_count": 40,
   "id": "3cf9591d",
   "metadata": {},
   "outputs": [
    {
     "data": {
      "text/plain": [
       "array([2, 1, 1, 1, 1, 1, 0, 0, 1, 2])"
      ]
     },
     "execution_count": 40,
     "metadata": {},
     "output_type": "execute_result"
    }
   ],
   "source": [
    "two_coins_ten_times = np.random.binomial(2,0.50,10)\n",
    "two_coins_ten_times"
   ]
  },
  {
   "cell_type": "code",
   "execution_count": 59,
   "id": "e8bbc6f0",
   "metadata": {},
   "outputs": [
    {
     "data": {
      "text/plain": [
       "array([1, 1, 1, 1, 0, 2, 2, 0, 1, 2, 2, 1, 1, 2, 1, 2, 1, 2, 1, 1, 0, 0,\n",
       "       1, 2, 1, 1, 1, 1, 1, 1, 1, 0, 1, 0, 0, 1, 1, 2, 0, 1, 1, 0, 0, 1,\n",
       "       2, 1, 2, 1, 0, 1, 1, 0, 1, 1, 1, 1, 2, 1, 1, 2, 2, 1, 0, 0, 2, 2,\n",
       "       1, 0, 0, 1, 1, 0, 2, 0, 1, 0, 1, 1, 0, 1, 0, 1, 1, 2, 2, 0, 0, 1,\n",
       "       0, 1, 2, 1, 1, 0, 1, 1, 1, 2, 0, 2, 2, 0, 1, 0, 2, 0, 1, 1, 0, 1,\n",
       "       0, 1, 0, 2, 2, 2, 1, 1, 1, 1, 2, 2, 2, 2, 2, 1, 1, 0, 0, 2, 2, 0,\n",
       "       1, 0, 2, 2, 0, 2, 1, 0, 1, 1, 1, 0, 1, 2, 1, 2, 1, 1, 1, 1, 2, 0,\n",
       "       2, 2, 1, 1, 0, 1, 1, 2, 1, 1, 1, 2, 1, 0, 0, 0, 1, 0, 0, 1, 0, 1,\n",
       "       2, 1, 1, 0, 1, 0, 1, 2, 1, 1, 1, 1, 1, 2, 0, 1, 0, 1, 0, 1, 1, 0,\n",
       "       2, 1, 0, 2, 2, 1, 1, 2, 1, 0, 2, 2, 0, 0, 2, 1, 0, 0, 1, 1, 2, 1,\n",
       "       0, 1, 1, 0, 1, 1, 0, 0, 1, 2, 1, 1, 0, 1, 0, 0, 0, 0, 1, 1, 2, 0,\n",
       "       2, 2, 1, 0, 0, 2, 1, 1, 2, 1, 2, 1, 2, 1, 1, 0, 0, 0, 2, 1, 2, 1,\n",
       "       0, 1, 2, 1, 2, 0, 1, 0, 2, 1, 2, 2, 1, 1, 1, 1, 1, 1, 2, 2, 0, 0,\n",
       "       2, 1, 1, 1, 2, 1, 2, 2, 2, 0, 1, 1, 2, 0, 0, 1, 0, 1, 0, 1, 1, 2,\n",
       "       1, 1, 0, 0, 1, 2, 1, 1, 2, 0, 0, 1, 1, 1, 1, 1, 2, 2, 0, 0, 1, 1,\n",
       "       1, 0, 2, 0, 1, 2, 1, 1, 0, 2, 1, 1, 1, 1, 2, 1, 0, 2, 0, 2, 0, 1,\n",
       "       1, 0, 1, 1, 2, 2, 2, 2, 0, 1, 1, 2, 1, 0, 2, 1, 0, 1, 1, 2, 0, 2,\n",
       "       1, 0, 1, 2, 0, 1, 1, 0, 0, 2, 1, 1, 2, 0, 2, 1, 2, 1, 1, 1, 0, 1,\n",
       "       0, 0, 1, 2, 2, 1, 1, 1, 1, 2, 1, 1, 1, 1, 0, 2, 1, 1, 1, 2, 2, 2,\n",
       "       1, 1, 1, 0, 1, 1, 1, 1, 2, 1, 1, 2, 0, 1, 1, 1, 1, 0, 0, 0, 0, 0,\n",
       "       1, 0, 0, 1, 0, 1, 2, 2, 1, 0, 2, 2, 2, 1, 1, 1, 1, 2, 2, 1, 1, 2,\n",
       "       0, 2, 2, 1, 0, 1, 2, 1, 1, 1, 0, 1, 1, 1, 1, 1, 0, 1, 1, 0, 1, 1,\n",
       "       2, 2, 1, 1, 1, 1, 2, 2, 1, 0, 1, 1, 2, 0, 2, 1, 1, 1, 1, 0, 1, 2,\n",
       "       1, 1, 1, 1, 0, 1, 1, 1, 1, 1, 1, 2, 0, 0, 0, 1, 1, 0, 0, 0, 1, 0,\n",
       "       0, 2, 1, 2, 1, 0, 2, 1, 2, 0, 2, 1, 0, 0, 0, 0, 0, 1, 1, 0, 0, 1,\n",
       "       1, 1, 1, 1, 1, 0, 2, 1, 2, 0, 2, 2, 2, 1, 1, 0, 1, 1, 2, 1, 2, 1,\n",
       "       2, 2, 1, 2, 2, 0, 1, 1, 2, 1, 1, 1, 0, 2, 0, 0, 1, 0, 1, 1, 2, 0,\n",
       "       1, 1, 1, 1, 1, 1, 0, 2, 0, 2, 1, 0, 2, 2, 2, 1, 1, 1, 1, 1, 1, 1,\n",
       "       2, 1, 1, 2, 0, 2, 1, 2, 2, 1, 2, 0, 2, 1, 0, 1, 2, 2, 0, 2, 2, 2,\n",
       "       1, 0, 2, 0, 1, 0, 1, 1, 1, 0, 2, 2, 1, 2, 1, 1, 1, 1, 0, 2, 0, 0,\n",
       "       1, 1, 0, 2, 1, 1, 1, 0, 1, 1, 0, 0, 2, 0, 0, 1, 0, 1, 1, 0, 1, 1,\n",
       "       2, 1, 2, 1, 0, 0, 0, 0, 2, 0, 1, 0, 1, 0, 1, 1, 0, 2, 1, 2, 1, 1,\n",
       "       2, 2, 1, 1, 1, 1, 2, 2, 1, 1, 1, 1, 1, 2, 1, 0, 0, 1, 1, 2, 0, 2,\n",
       "       2, 1, 1, 0, 1, 1, 0, 2, 1, 0, 0, 1, 0, 1, 0, 1, 1, 2, 1, 0, 1, 1,\n",
       "       0, 1, 0, 2, 0, 2, 2, 1, 2, 1, 2, 1, 0, 1, 0, 2, 2, 1, 1, 0, 1, 2,\n",
       "       0, 1, 2, 1, 0, 1, 1, 1, 1, 0, 2, 1, 1, 0, 1, 1, 1, 2, 2, 2, 2, 0,\n",
       "       1, 1, 1, 0, 0, 1, 1, 2, 1, 2, 1, 0, 1, 1, 1, 2, 1, 0, 2, 1, 2, 2,\n",
       "       0, 0, 1, 1, 1, 1, 1, 1, 1, 1, 1, 0, 1, 2, 2, 1, 0, 0, 0, 2, 1, 2,\n",
       "       1, 2, 1, 1, 1, 0, 2, 0, 1, 1, 1, 2, 0, 0, 2, 1, 1, 2, 2, 1, 1, 1,\n",
       "       0, 2, 2, 1, 2, 0, 0, 1, 1, 1, 1, 1, 0, 1, 1, 2, 1, 0, 2, 0, 1, 0,\n",
       "       2, 1, 0, 1, 1, 2, 0, 1, 1, 1, 2, 0, 1, 1, 0, 1, 1, 2, 1, 1, 2, 0,\n",
       "       1, 1, 1, 1, 1, 1, 2, 1, 0, 1, 1, 1, 2, 0, 1, 0, 2, 0, 1, 1, 1, 1,\n",
       "       0, 1, 0, 1, 2, 0, 1, 0, 2, 0, 2, 1, 2, 2, 1, 1, 0, 1, 2, 0, 1, 0,\n",
       "       2, 1, 1, 1, 1, 1, 0, 2, 1, 1, 2, 2, 0, 2, 1, 2, 2, 1, 1, 2, 0, 1,\n",
       "       0, 0, 1, 1, 1, 1, 1, 0, 0, 0, 1, 1, 0, 2, 2, 1, 0, 1, 2, 0, 1, 0,\n",
       "       0, 2, 1, 0, 1, 0, 0, 1, 2, 1])"
      ]
     },
     "execution_count": 59,
     "metadata": {},
     "output_type": "execute_result"
    }
   ],
   "source": [
    "two_coins_thousand_times = np.random.binomial(2,0.50,1000)\n",
    "two_coins_thousand_times"
   ]
  },
  {
   "cell_type": "code",
   "execution_count": 107,
   "id": "f94c8701",
   "metadata": {},
   "outputs": [
    {
     "data": {
      "image/png": "[encoded data removed]",
      "text/plain": [
       "<Figure size 432x288 with 1 Axes>"
      ]
     },
     "metadata": {},
     "output_type": "display_data"
    }
   ],
   "source": [
    "sns.countplot(x=two_coins_thousand_times)\n",
    "sns.set_theme(style = 'darkgrid')\n",
    "pl.title(\"Binomial Probability\")\n",
    "pl.xlabel(\"Number of heads\")\n",
    "pl.show()"
   ]
  },
  {
   "cell_type": "code",
   "execution_count": 108,
   "id": "01196226",
   "metadata": {},
   "outputs": [
    {
     "data": {
      "image/png": "[encoded data removed]",
      "text/plain": [
       "<Figure size 432x288 with 1 Axes>"
      ]
     },
     "metadata": {},
     "output_type": "display_data"
    }
   ],
   "source": [
    "ten_coins = np.random.binomial(10,0.50,1000)\n",
    "sns.countplot(x=ten_coins)\n",
    "sns.set_theme(style = 'darkgrid')\n",
    "pl.title(\"Binomial Probability\")\n",
    "pl.xlabel(\"Number of heads\")\n",
    "pl.show()"
   ]
  },
  {
   "cell_type": "markdown",
   "id": "b9842e90",
   "metadata": {},
   "source": [
    "# A manifactures has 12% defects rate in production. The buyer decides to test 20 random pieces and will accept the supplier if there are 2 or less defectives. What is the probability of getting accepted?  "
   ]
  },
  {
   "cell_type": "code",
   "execution_count": 89,
   "id": "789fbbea",
   "metadata": {},
   "outputs": [
    {
     "data": {
      "text/plain": [
       "array([1, 3, 3, 3, 2, 4, 3, 1, 1, 1, 3, 4, 4, 4, 0, 4, 2, 4, 3, 6, 2, 2,\n",
       "       0, 1, 1, 1, 4, 2, 1, 2, 1, 2, 2, 3, 1, 7, 1, 2, 2, 4, 0, 2, 3, 3,\n",
       "       2, 3, 1, 3, 1, 1, 6, 2, 0, 1, 1, 2, 2, 0, 2, 4, 3, 1, 4, 4, 3, 3,\n",
       "       1, 4, 2, 1, 2, 2, 4, 3, 3, 3, 3, 4, 4, 3, 3, 4, 5, 3, 2, 2, 4, 4,\n",
       "       1, 1, 3, 1, 2, 2, 2, 2, 3, 1, 0, 3, 3, 5, 4, 0, 2, 2, 3, 0, 1, 2,\n",
       "       4, 0, 3, 1, 0, 2, 2, 3, 1, 2, 2, 2, 2, 2, 4, 3, 5, 4, 4, 6, 1, 1,\n",
       "       1, 2, 2, 3, 3, 3, 1, 0, 1, 0, 3, 3, 1, 2, 1, 4, 3, 3, 2, 3, 8, 3,\n",
       "       3, 4, 2, 6, 2, 3, 2, 5, 2, 4, 6, 5, 1, 5, 1, 4, 3, 4, 3, 2, 3, 4,\n",
       "       3, 5, 2, 2, 3, 2, 5, 5, 2, 3, 2, 0, 3, 2, 4, 2, 3, 2, 2, 3, 4, 4,\n",
       "       4, 1, 6, 1, 2, 1, 1, 0, 2, 3, 3, 3, 1, 4, 2, 4, 3, 2, 3, 1, 2, 1,\n",
       "       1, 3, 3, 1, 2, 1, 1, 0, 2, 4, 3, 2, 1, 2, 2, 3, 3, 4, 1, 2, 4, 3,\n",
       "       0, 2, 0, 0, 3, 2, 1, 4, 2, 3, 0, 1, 2, 3, 4, 1, 3, 4, 3, 4, 2, 2,\n",
       "       0, 3, 1, 2, 4, 2, 2, 1, 3, 3, 2, 3, 3, 1, 2, 5, 3, 3, 3, 2, 2, 2,\n",
       "       2, 2, 4, 4, 5, 4, 2, 5, 2, 1, 2, 2, 3, 2, 1, 3, 1, 1, 1, 5, 1, 1,\n",
       "       3, 2, 3, 3, 2, 2, 1, 3, 2, 1, 2, 2, 4, 1, 3, 2, 0, 1, 2, 1, 4, 5,\n",
       "       1, 2, 1, 2, 3, 3, 0, 1, 2, 0, 3, 3, 1, 3, 1, 1, 4, 0, 3, 3, 5, 1,\n",
       "       1, 4, 0, 0, 1, 2, 1, 3, 5, 5, 4, 1, 4, 2, 0, 2, 2, 3, 5, 1, 1, 0,\n",
       "       4, 3, 1, 0, 1, 3, 2, 2, 4, 2, 6, 2, 0, 1, 3, 2, 1, 3, 4, 6, 1, 4,\n",
       "       2, 1, 6, 2, 3, 1, 7, 3, 4, 2, 5, 3, 1, 3, 1, 1, 1, 1, 0, 1, 1, 1,\n",
       "       4, 5, 3, 3, 4, 6, 1, 1, 1, 3, 1, 1, 3, 4, 3, 5, 1, 6, 2, 3, 1, 1,\n",
       "       0, 1, 3, 5, 2, 0, 2, 3, 4, 4, 4, 3, 0, 2, 2, 1, 2, 1, 2, 4, 3, 0,\n",
       "       0, 4, 3, 3, 2, 4, 3, 4, 4, 1, 3, 1, 3, 1, 2, 4, 1, 2, 1, 1, 6, 2,\n",
       "       1, 4, 4, 4, 2, 4, 2, 1, 2, 4, 2, 0, 3, 4, 3, 3, 1, 1, 2, 4, 5, 3,\n",
       "       2, 0, 1, 4, 1, 0, 3, 2, 2, 4, 1, 2, 5, 1, 2, 2, 1, 5, 3, 3, 3, 1,\n",
       "       2, 2, 4, 2, 3, 1, 4, 1, 3, 1, 0, 2, 0, 1, 2, 4, 0, 0, 5, 1, 2, 2,\n",
       "       3, 0, 3, 2, 2, 1, 1, 2, 3, 0, 1, 3, 3, 3, 4, 2, 4, 3, 1, 0, 4, 1,\n",
       "       2, 0, 2, 0, 0, 4, 3, 2, 4, 3, 2, 3, 2, 2, 3, 2, 5, 3, 3, 0, 0, 1,\n",
       "       1, 1, 3, 4, 4, 3, 7, 2, 1, 2, 0, 1, 2, 2, 5, 3, 4, 5, 1, 4, 0, 1,\n",
       "       1, 4, 2, 3, 2, 7, 0, 2, 3, 3, 2, 2, 1, 1, 3, 0, 4, 1, 3, 0, 4, 4,\n",
       "       4, 3, 2, 0, 1, 1, 1, 2, 0, 1, 1, 4, 7, 2, 3, 1, 4, 2, 2, 2, 0, 2,\n",
       "       4, 1, 3, 3, 4, 1, 2, 3, 5, 2, 3, 2, 4, 1, 2, 3, 3, 6, 3, 2, 2, 2,\n",
       "       1, 4, 3, 3, 3, 1, 1, 3, 4, 4, 3, 4, 1, 5, 1, 0, 5, 3, 2, 1, 1, 1,\n",
       "       0, 2, 2, 0, 2, 2, 2, 5, 2, 2, 1, 3, 1, 5, 2, 2, 4, 1, 5, 1, 4, 4,\n",
       "       3, 3, 1, 1, 1, 1, 5, 2, 5, 5, 4, 2, 0, 2, 2, 3, 1, 2, 2, 3, 3, 5,\n",
       "       2, 1, 4, 3, 3, 4, 0, 2, 2, 4, 4, 2, 4, 3, 1, 2, 7, 2, 1, 0, 1, 1,\n",
       "       1, 2, 1, 1, 3, 2, 4, 2, 0, 2, 2, 2, 4, 3, 4, 3, 4, 2, 0, 1, 0, 3,\n",
       "       2, 1, 4, 2, 0, 3, 2, 4, 1, 0, 3, 3, 3, 4, 4, 3, 2, 3, 3, 3, 3, 3,\n",
       "       3, 0, 1, 2, 3, 2, 3, 4, 4, 2, 1, 0, 2, 2, 0, 3, 3, 3, 2, 2, 0, 3,\n",
       "       1, 2, 4, 2, 1, 1, 3, 2, 0, 4, 2, 1, 2, 4, 3, 1, 1, 3, 1, 2, 3, 4,\n",
       "       1, 4, 2, 0, 3, 2, 3, 4, 3, 4, 4, 1, 1, 0, 3, 3, 4, 2, 1, 2, 5, 4,\n",
       "       1, 4, 4, 3, 2, 1, 2, 2, 5, 2, 2, 4, 5, 2, 1, 3, 3, 3, 1, 2, 1, 4,\n",
       "       2, 2, 2, 2, 5, 1, 0, 3, 2, 2, 0, 4, 2, 2, 5, 4, 1, 1, 0, 4, 3, 5,\n",
       "       1, 1, 2, 5, 1, 4, 1, 2, 2, 1, 1, 5, 5, 5, 3, 1, 3, 1, 4, 3, 2, 2,\n",
       "       4, 1, 4, 3, 4, 0, 4, 4, 4, 3, 3, 0, 3, 1, 2, 1, 3, 1, 1, 2, 1, 3,\n",
       "       1, 3, 4, 2, 3, 2, 4, 1, 3, 2, 2, 2, 4, 4, 4, 3, 6, 2, 3, 2, 1, 0,\n",
       "       6, 2, 1, 1, 2, 0, 0, 3, 1, 1])"
      ]
     },
     "execution_count": 89,
     "metadata": {},
     "output_type": "execute_result"
    }
   ],
   "source": [
    "production = np.random.binomial(20,0.12,1000)\n",
    "production"
   ]
  },
  {
   "cell_type": "code",
   "execution_count": 109,
   "id": "ef2c56a6",
   "metadata": {},
   "outputs": [
    {
     "data": {
      "image/png": "[encoded data removed]",
      "text/plain": [
       "<Figure size 432x288 with 1 Axes>"
      ]
     },
     "metadata": {},
     "output_type": "display_data"
    }
   ],
   "source": [
    "sns.countplot(x=production)\n",
    "sns.set_theme(style = 'darkgrid')\n",
    "pl.title(\"Binomial Probability\")\n",
    "pl.xlabel(\"Number of Defectives\")\n",
    "pl.show()"
   ]
  },
  {
   "cell_type": "code",
   "execution_count": 96,
   "id": "fa670dff",
   "metadata": {},
   "outputs": [
    {
     "data": {
      "text/plain": [
       "0.5631315224061946"
      ]
     },
     "execution_count": 96,
     "metadata": {},
     "output_type": "execute_result"
    }
   ],
   "source": [
    "P_0_1_2 = binom.cdf(2,20,0.12)\n",
    "P_0_1_2"
   ]
  },
  {
   "cell_type": "code",
   "execution_count": 94,
   "id": "df8d29ed",
   "metadata": {},
   "outputs": [
    {
     "data": {
      "text/plain": [
       "0.27403383702748796"
      ]
     },
     "execution_count": 94,
     "metadata": {},
     "output_type": "execute_result"
    }
   ],
   "source": [
    "exact_two = binom.pmf(2,20,0.12)\n",
    "exact_two"
   ]
  },
  {
   "cell_type": "code",
   "execution_count": 97,
   "id": "a4899af6",
   "metadata": {},
   "outputs": [
    {
     "data": {
      "text/plain": [
       "2.4"
      ]
     },
     "execution_count": 97,
     "metadata": {},
     "output_type": "execute_result"
    }
   ],
   "source": [
    "binom.mean(20,0.12)"
   ]
  },
  {
   "cell_type": "code",
   "execution_count": 98,
   "id": "cd3fa27e",
   "metadata": {},
   "outputs": [
    {
     "data": {
      "text/plain": [
       "1.453272169966796"
      ]
     },
     "execution_count": 98,
     "metadata": {},
     "output_type": "execute_result"
    }
   ],
   "source": [
    "binom.std(20,0.12)"
   ]
  },
  {
   "cell_type": "code",
   "execution_count": 101,
   "id": "a9b9495e",
   "metadata": {},
   "outputs": [
    {
     "data": {
      "text/plain": [
       "2.112"
      ]
     },
     "execution_count": 101,
     "metadata": {},
     "output_type": "execute_result"
    }
   ],
   "source": [
    "binom.var(20,0.12)"
   ]
  },
  {
   "cell_type": "code",
   "execution_count": 113,
   "id": "cafefc0f",
   "metadata": {},
   "outputs": [
    {
     "data": {
      "text/plain": [
       "array([ 0,  1,  2,  3,  4,  5,  6,  7,  8,  9, 10, 11, 12, 13, 14, 15, 16,\n",
       "       17, 18, 19, 20])"
      ]
     },
     "execution_count": 113,
     "metadata": {},
     "output_type": "execute_result"
    }
   ],
   "source": [
    "x_ax = np.arange(0,21)\n",
    "x_ax"
   ]
  },
  {
   "cell_type": "code",
   "execution_count": 104,
   "id": "3230de15",
   "metadata": {},
   "outputs": [],
   "source": [
    "y_ax = binom.pmf(x_ax,20,0.12)"
   ]
  },
  {
   "cell_type": "code",
   "execution_count": 110,
   "id": "9494aadd",
   "metadata": {},
   "outputs": [
    {
     "data": {
      "text/plain": [
       "<AxesSubplot:>"
      ]
     },
     "execution_count": 110,
     "metadata": {},
     "output_type": "execute_result"
    },
    {
     "data": {
      "image/png": "[encoded data removed]",
      "text/plain": [
       "<Figure size 432x288 with 1 Axes>"
      ]
     },
     "metadata": {},
     "output_type": "display_data"
    }
   ],
   "source": [
    "sns.barplot(x = x_ax, y = y_ax)"
   ]
  },
  {
   "cell_type": "code",
   "execution_count": 116,
   "id": "651fabf2",
   "metadata": {},
   "outputs": [
    {
     "data": {
      "text/plain": [
       "<AxesSubplot:>"
      ]
     },
     "execution_count": 116,
     "metadata": {},
     "output_type": "execute_result"
    },
    {
     "data": {
      "image/png": "[encoded data removed]",
      "text/plain": [
       "<Figure size 432x288 with 1 Axes>"
      ]
     },
     "metadata": {},
     "output_type": "display_data"
    }
   ],
   "source": [
    "y_ax2 = binom.cdf(x_ax,20,0.12)\n",
    "sns.barplot(x = x_ax, y = y_ax2)"
   ]
  }
 ],
 "metadata": {
  "kernelspec": {
   "display_name": "Python 3 (ipykernel)",
   "language": "python",
   "name": "python3"
  },
  "language_info": {
   "codemirror_mode": {
    "name": "ipython",
    "version": 3
   },
   "file_extension": ".py",
   "mimetype": "text/x-python",
   "name": "python",
   "nbconvert_exporter": "python",
   "pygments_lexer": "ipython3",
   "version": "3.9.7"
  }
 },
 "nbformat": 4,
 "nbformat_minor": 5
}
