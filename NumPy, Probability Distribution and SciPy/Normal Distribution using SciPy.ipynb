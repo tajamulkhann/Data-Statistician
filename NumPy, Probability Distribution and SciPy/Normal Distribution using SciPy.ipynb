{
 "cells": [
  {
   "cell_type": "code",
   "execution_count": 4,
   "id": "92f11f54",
   "metadata": {},
   "outputs": [],
   "source": [
    "import numpy as np\n",
    "import matplotlib.pyplot as plt\n",
    "import seaborn as sns\n",
    "from scipy.stats import norm"
   ]
  },
  {
   "cell_type": "markdown",
   "id": "12c9f981",
   "metadata": {},
   "source": [
    "# Perfume bottles are filled with the average volume of 150cc and the standard deviation of 2cc. What percent of bottles will have the volume more than 153cc?"
   ]
  },
  {
   "cell_type": "code",
   "execution_count": 6,
   "id": "8636aa5b",
   "metadata": {},
   "outputs": [
    {
     "data": {
      "text/plain": [
       "0.06680720126885809"
      ]
     },
     "execution_count": 6,
     "metadata": {},
     "output_type": "execute_result"
    }
   ],
   "source": [
    "mu = 150\n",
    "std = 2\n",
    "1 - norm.cdf(153, mu, std)"
   ]
  },
  {
   "cell_type": "markdown",
   "id": "01ba8fb3",
   "metadata": {},
   "source": [
    "# Perfume bottles are filled with the average volume of 150cc and the standard deviation of 2cc. What percent of bottles will have the volume between 148 and 152cc?"
   ]
  },
  {
   "cell_type": "code",
   "execution_count": 17,
   "id": "d052120f",
   "metadata": {},
   "outputs": [],
   "source": [
    "left_side = norm.cdf(148, mu, std) "
   ]
  },
  {
   "cell_type": "code",
   "execution_count": 18,
   "id": "44c8c6f7",
   "metadata": {},
   "outputs": [],
   "source": [
    "right_side = 1 - norm.cdf(152, mu, std)"
   ]
  },
  {
   "cell_type": "code",
   "execution_count": 19,
   "id": "efe26bc0",
   "metadata": {},
   "outputs": [
    {
     "data": {
      "text/plain": [
       "0.6826894921370859"
      ]
     },
     "execution_count": 19,
     "metadata": {},
     "output_type": "execute_result"
    }
   ],
   "source": [
    "result = 1 - left_side - right_side\n",
    "result"
   ]
  },
  {
   "cell_type": "markdown",
   "id": "1220e92f",
   "metadata": {},
   "source": [
    " # What percent of bottles will have the volume exactly 150cc?"
   ]
  },
  {
   "cell_type": "code",
   "execution_count": 23,
   "id": "4b714e97",
   "metadata": {},
   "outputs": [
    {
     "data": {
      "text/plain": [
       "0.19947114020071635"
      ]
     },
     "execution_count": 23,
     "metadata": {},
     "output_type": "execute_result"
    }
   ],
   "source": [
    "result = norm.pdf(150,mu,std)\n",
    "result"
   ]
  },
  {
   "cell_type": "markdown",
   "id": "0ff04592",
   "metadata": {},
   "source": [
    "# What percent of bottles will have the volume less than 150cc?"
   ]
  },
  {
   "cell_type": "code",
   "execution_count": 24,
   "id": "d5ac5b0c",
   "metadata": {},
   "outputs": [
    {
     "data": {
      "text/plain": [
       "0.5"
      ]
     },
     "execution_count": 24,
     "metadata": {},
     "output_type": "execute_result"
    }
   ],
   "source": [
    "norm.cdf(150,mu,std)"
   ]
  },
  {
   "cell_type": "code",
   "execution_count": 31,
   "id": "a86c81eb",
   "metadata": {},
   "outputs": [
    {
     "data": {
      "image/png": "[encoded data removed]",
      "text/plain": [
       "<Figure size 432x288 with 1 Axes>"
      ]
     },
     "metadata": {
      "needs_background": "light"
     },
     "output_type": "display_data"
    }
   ],
   "source": [
    "x_ax = np.linspace(144,156,130)\n",
    "y_ax = norm.pdf(x_ax, mu,std)\n",
    "sns.lineplot(x=x_ax, y = y_ax)\n",
    "plt.axvline(153, color = 'red')\n",
    "plt.show()"
   ]
  }
 ],
 "metadata": {
  "kernelspec": {
   "display_name": "Python 3 (ipykernel)",
   "language": "python",
   "name": "python3"
  },
  "language_info": {
   "codemirror_mode": {
    "name": "ipython",
    "version": 3
   },
   "file_extension": ".py",
   "mimetype": "text/x-python",
   "name": "python",
   "nbconvert_exporter": "python",
   "pygments_lexer": "ipython3",
   "version": "3.9.7"
  }
 },
 "nbformat": 4,
 "nbformat_minor": 5
}
