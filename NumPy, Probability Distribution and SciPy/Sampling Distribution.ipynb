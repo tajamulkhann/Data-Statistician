{
 "cells": [
  {
   "cell_type": "code",
   "execution_count": 1,
   "id": "631cf4e4",
   "metadata": {},
   "outputs": [],
   "source": [
    "import numpy as np\n",
    "import matplotlib.pyplot as plt\n",
    "import seaborn as sns\n",
    "from scipy.stats import norm"
   ]
  },
  {
   "cell_type": "markdown",
   "id": "2768c30c",
   "metadata": {},
   "source": [
    "We have taken a sample of 15 pieces of the population. What is the probability the X_bar will be between 3185 and 3215? Sigma is 150 and standard error is 38.7 (sample std deviation)."
   ]
  },
  {
   "cell_type": "code",
   "execution_count": 2,
   "id": "07e69d38",
   "metadata": {},
   "outputs": [
    {
     "data": {
      "text/plain": [
       "0.30168563605088905"
      ]
     },
     "execution_count": 2,
     "metadata": {},
     "output_type": "execute_result"
    }
   ],
   "source": [
    "mu = 3200\n",
    "std = 38.7\n",
    "(1 - norm.cdf(3185, mu, std)) - (1 - norm.cdf(3215, mu, std))"
   ]
  },
  {
   "cell_type": "markdown",
   "id": "c5f89a04",
   "metadata": {},
   "source": [
    "We have taken a sample of 135 pieces of the population. What is the probability the X_bar will be between 3185 and 3215? Sigma is 150 and standard error is 12.9 (sample std deviation).\n"
   ]
  },
  {
   "cell_type": "code",
   "execution_count": 3,
   "id": "9079c162",
   "metadata": {},
   "outputs": [
    {
     "data": {
      "text/plain": [
       "0.755085567730065"
      ]
     },
     "execution_count": 3,
     "metadata": {},
     "output_type": "execute_result"
    }
   ],
   "source": [
    "mu_ = 3200\n",
    "std_ = 12.9\n",
    "(1 - norm.cdf(3185, mu_, std_)) - (1 - norm.cdf(3215, mu_, std_))"
   ]
  },
  {
   "cell_type": "markdown",
   "id": "70965a2a",
   "metadata": {},
   "source": [
    "We have taken a sample of 500 pieces of the population. What is the probability the X_bar will be between 3185 and 3215? Sigma is 150 and standard error is 6.71 (sample std deviation)."
   ]
  },
  {
   "cell_type": "code",
   "execution_count": 4,
   "id": "6d4688c2",
   "metadata": {},
   "outputs": [
    {
     "data": {
      "text/plain": [
       "0.9746134548171819"
      ]
     },
     "execution_count": 4,
     "metadata": {},
     "output_type": "execute_result"
    }
   ],
   "source": [
    "mu1 = 3200\n",
    "std1 = 6.71\n",
    "(1 - norm.cdf(3185, mu1, std1)) - (1 - norm.cdf(3215, mu1, std1))"
   ]
  },
  {
   "cell_type": "markdown",
   "id": "4c4c78a7",
   "metadata": {},
   "source": [
    "The larger sample size decrease the standard error of the mean (sample standard deviation)."
   ]
  }
 ],
 "metadata": {
  "kernelspec": {
   "display_name": "Python 3 (ipykernel)",
   "language": "python",
   "name": "python3"
  },
  "language_info": {
   "codemirror_mode": {
    "name": "ipython",
    "version": 3
   },
   "file_extension": ".py",
   "mimetype": "text/x-python",
   "name": "python",
   "nbconvert_exporter": "python",
   "pygments_lexer": "ipython3",
   "version": "3.9.7"
  }
 },
 "nbformat": 4,
 "nbformat_minor": 5
}
