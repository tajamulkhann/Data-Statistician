{
 "cells": [
  {
   "cell_type": "code",
   "execution_count": 1,
   "id": "beb860e8",
   "metadata": {},
   "outputs": [],
   "source": [
    "import numpy as np\n",
    "import matplotlib.pyplot as plt\n",
    "import seaborn as sns\n",
    "import sc"
   ]
  },
  {
   "cell_type": "code",
   "execution_count": 7,
   "id": "d900a370",
   "metadata": {},
   "outputs": [
    {
     "data": {
      "text/plain": [
       "array([ 5,  5,  0,  5,  3,  1,  2,  3,  4,  7,  7,  4,  3,  3,  6,  4,  1,\n",
       "        4,  3,  8,  2,  7,  5,  4,  2,  1,  3,  2,  8,  6,  1,  1,  1,  1,\n",
       "        3,  3,  2,  2,  4,  2,  5,  4,  6,  1,  1,  4,  2,  2,  2,  1,  2,\n",
       "        3,  3,  7,  4,  3,  3,  2,  2,  4,  3,  5,  4,  3,  3,  3,  2,  4,\n",
       "        5,  3,  4,  3,  2,  4,  5,  6,  6,  4,  4,  0,  1,  6,  4,  4,  3,\n",
       "        2,  1,  5,  6,  5,  3,  4,  2,  1,  3,  1,  1,  6,  5,  3,  4,  5,\n",
       "        2,  3,  4,  2,  7,  3,  3,  6,  4, 12,  2,  8,  6,  3,  2,  5,  4,\n",
       "        6,  3,  3,  2,  2,  7,  2,  5,  0,  3,  1,  4,  2,  6,  4,  2,  2,\n",
       "        1,  4,  4,  2,  9,  4,  7,  4,  8,  1,  4,  6,  5,  3,  4,  3,  2,\n",
       "        0,  5,  3,  4,  3,  2,  4,  2,  2,  5,  4,  4,  2,  3,  4,  2,  3,\n",
       "        2,  6,  4,  5,  4,  2,  4,  3,  2,  5,  8,  3,  6,  4,  1,  6,  8,\n",
       "        7,  0,  7,  2,  2,  5,  2,  5,  4,  5,  4,  3,  6,  7,  2,  3,  1,\n",
       "        4,  3,  6,  2,  3,  7,  4,  4,  2,  3,  4,  4,  3,  4,  3,  6,  2,\n",
       "        2,  7,  5,  1,  2,  4,  5,  3,  4,  4,  3,  2,  4,  7,  3,  2,  3,\n",
       "        3,  5,  2,  3,  2,  3,  4,  6,  4,  2,  2,  3,  0,  3,  2,  2,  6,\n",
       "        2,  5,  5, 11,  1,  4,  5,  5,  5,  2,  2,  4,  5,  9,  6,  6,  5,\n",
       "        3,  4,  2,  8,  5,  7,  6,  6,  6,  5,  1,  3,  3,  5,  2,  3,  3,\n",
       "        2,  3,  4,  4,  3,  3,  5,  4,  1,  2,  1,  1,  4,  3,  3,  3,  6,\n",
       "        4,  5,  1,  4,  6,  7,  6,  6,  7,  3,  1,  6,  2,  6,  3,  2,  4,\n",
       "        3,  1,  3,  0,  2,  2,  6,  6,  1,  5,  2,  5,  2,  1,  0,  8,  1,\n",
       "        3,  3,  5,  2,  7,  5,  1,  4,  3,  4,  2,  4,  8,  6,  3,  3,  0,\n",
       "        1,  5,  6,  3,  6,  2,  3,  4,  4,  2,  1,  4,  7,  2,  3,  5,  6,\n",
       "        2,  8,  5,  2,  1,  5,  3,  1,  2,  2,  4,  0,  2,  4,  4,  3,  6,\n",
       "        5,  4,  5,  5,  3,  2,  4,  1,  2,  2,  3,  1,  5,  4,  8,  3,  4,\n",
       "        6,  3,  3,  3,  3,  4,  6,  2,  5,  2,  5,  1,  2,  8,  4,  4,  8,\n",
       "        3,  6,  4,  7,  4,  2,  5,  5,  2,  4,  0,  7,  4,  4,  7,  4,  1,\n",
       "        4,  2,  5,  3,  2,  3,  3,  5,  5,  2,  6,  4,  4,  1,  6,  2,  3,\n",
       "        4,  3,  4,  4,  2,  4,  4,  2,  3,  3,  2,  0,  2,  5,  1,  3,  2,\n",
       "        6,  2,  6,  4,  4,  3,  4,  5,  3,  3,  8,  2,  4,  4,  3,  5,  6,\n",
       "        3,  5,  1,  3,  3,  4,  4,  3,  6,  7,  3,  3,  4,  3,  2,  4,  2,\n",
       "        5,  7,  6,  5, 11,  3,  6,  3,  3,  8,  4,  4,  4,  1,  5,  1,  9,\n",
       "        1,  1,  2,  2,  3,  4,  7,  4,  3,  3,  6,  5,  4,  0,  4,  3,  3,\n",
       "        2,  2,  0,  4,  2,  3,  2,  6,  4,  4,  7,  2,  2,  6,  2,  9,  3,\n",
       "        2,  4,  3,  3,  2,  4,  6,  3,  3,  4,  2,  5,  3,  1,  2,  2,  4,\n",
       "        5,  3,  4,  4,  2,  8,  5,  0,  3,  5,  5,  1,  8,  2,  2,  1,  5,\n",
       "        8,  8,  3,  2,  9,  3,  6,  4,  4,  3,  4,  4,  4,  2,  7,  3,  3,\n",
       "        3,  5,  2,  4,  3,  2,  0,  3,  3,  3,  2,  3,  2,  7,  5,  6,  2,\n",
       "        5,  6,  3,  4,  2,  2,  5,  1,  1,  4,  3,  2,  6,  4,  2,  4,  6,\n",
       "        5,  4,  2,  7,  4,  4,  1,  4,  1,  5,  4,  2,  9,  5,  3,  4,  2,\n",
       "        6,  2,  4,  5,  3,  2,  6,  4,  2,  4,  2,  3,  3,  4,  2,  3,  5,\n",
       "        7,  5,  4,  5,  2,  3,  1,  7,  5,  3,  5,  9,  2,  5,  5,  3,  3,\n",
       "        8,  7,  7,  0,  3,  2,  1,  1,  3,  6,  6,  3,  4,  5,  2,  2,  5,\n",
       "        1,  2,  1,  5,  5,  6,  5,  4,  4,  5,  6,  3,  5,  1,  4,  3,  3,\n",
       "        4, 10,  5,  1,  7,  4,  2,  3,  6,  6,  7,  2,  5,  3,  4,  5,  1,\n",
       "        7,  3,  2,  4,  3,  3,  1,  5,  2,  5,  2,  2,  4,  3,  3,  6,  4,\n",
       "        2,  2,  5,  2, 10,  3,  1,  7,  2,  5,  7,  7,  4,  3,  8,  3,  3,\n",
       "        3,  4,  1,  4,  3,  4,  3,  6,  2,  7,  4,  4,  2,  7,  5,  1,  4,\n",
       "        1,  5,  3,  5,  5,  4,  3,  5,  3,  2,  4,  7,  5,  1,  4,  2,  2,\n",
       "        3,  4,  3,  4,  3,  3,  2,  6,  4,  1,  3,  8,  5,  3,  4,  4,  4,\n",
       "        2,  3,  2,  4,  1,  5,  3,  3,  0,  4,  5,  3,  3,  2,  4,  2,  5,\n",
       "        3,  7,  4,  4,  8,  6,  4,  1,  1,  1,  5,  3,  1,  4,  6,  4,  5,\n",
       "        2,  3,  7,  9,  7,  2,  5,  2,  2,  4,  5,  1,  0,  7,  9,  8,  1,\n",
       "        1,  2,  0,  1,  3,  1,  3,  2,  7,  5,  0,  3,  4,  1,  0,  1,  2,\n",
       "        5,  4,  2,  1,  2,  5,  4,  1,  0,  7,  3,  3,  3,  3,  5,  2,  5,\n",
       "        3,  6,  6,  3,  4,  4,  1,  3,  2,  4,  1,  1,  7,  4,  3,  2,  1,\n",
       "        5,  7,  5,  7,  6,  6,  5,  2,  5,  2,  3,  3,  2,  1,  2,  3,  3,\n",
       "        2,  2,  6,  0,  4,  1,  3,  5,  3,  1,  2,  3,  4,  4,  4,  2,  3,\n",
       "        2,  2,  4,  4,  2,  4,  2,  3,  3,  4,  5,  4,  4,  4,  5,  7,  4,\n",
       "        6,  3,  4,  3,  1,  4,  7,  4,  3,  4,  4,  2,  3,  3])"
      ]
     },
     "execution_count": 7,
     "metadata": {},
     "output_type": "execute_result"
    }
   ],
   "source": [
    "q = np.random.poisson(3.6,1000)\n",
    "q"
   ]
  },
  {
   "cell_type": "code",
   "execution_count": 8,
   "id": "daaac453",
   "metadata": {},
   "outputs": [
    {
     "data": {
      "image/png": "[encoded data removed]",
      "text/plain": [
       "<Figure size 432x288 with 1 Axes>"
      ]
     },
     "metadata": {},
     "output_type": "display_data"
    }
   ],
   "source": [
    "sns.set_theme(style='darkgrid')\n",
    "sns.countplot(x=q)\n",
    "plt.show()"
   ]
  }
 ],
 "metadata": {
  "kernelspec": {
   "display_name": "Python 3 (ipykernel)",
   "language": "python",
   "name": "python3"
  },
  "language_info": {
   "codemirror_mode": {
    "name": "ipython",
    "version": 3
   },
   "file_extension": ".py",
   "mimetype": "text/x-python",
   "name": "python",
   "nbconvert_exporter": "python",
   "pygments_lexer": "ipython3",
   "version": "3.9.7"
  }
 },
 "nbformat": 4,
 "nbformat_minor": 5
}
