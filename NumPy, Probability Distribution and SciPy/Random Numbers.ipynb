{
 "cells": [
  {
   "cell_type": "code",
   "execution_count": 1,
   "id": "eb5ba3d3",
   "metadata": {},
   "outputs": [
    {
     "data": {
      "text/plain": [
       "0.6251400950582071"
      ]
     },
     "execution_count": 1,
     "metadata": {},
     "output_type": "execute_result"
    }
   ],
   "source": [
    "import numpy as np  # Each time you use np.random.rand() function you get a random number between 0 and 1\n",
    "np.random.rand()"
   ]
  },
  {
   "cell_type": "code",
   "execution_count": 2,
   "id": "937fea59",
   "metadata": {},
   "outputs": [
    {
     "data": {
      "text/plain": [
       "0.7178340874802498"
      ]
     },
     "execution_count": 2,
     "metadata": {},
     "output_type": "execute_result"
    }
   ],
   "source": [
    "np.random.seed(555)    # By setting a seed, you can be assured that you get the same random number each time.\n",
    "np.random.rand()"
   ]
  },
  {
   "cell_type": "code",
   "execution_count": 3,
   "id": "2b9de882",
   "metadata": {},
   "outputs": [
    {
     "data": {
      "text/plain": [
       "array([0.04785513, 0.94447198, 0.68638004, 0.58120733, 0.14267862])"
      ]
     },
     "execution_count": 3,
     "metadata": {},
     "output_type": "execute_result"
    }
   ],
   "source": [
    "np.random.rand(5)  # Five random numbers in an array"
   ]
  },
  {
   "cell_type": "code",
   "execution_count": 4,
   "id": "7c97d733",
   "metadata": {},
   "outputs": [
    {
     "data": {
      "text/plain": [
       "array([ True, False,  True, False, False])"
      ]
     },
     "execution_count": 4,
     "metadata": {},
     "output_type": "execute_result"
    }
   ],
   "source": [
    "np.random.rand(5) > 0.50   # Flipping a coin ... True= Head"
   ]
  },
  {
   "cell_type": "code",
   "execution_count": 5,
   "id": "438c75d9",
   "metadata": {},
   "outputs": [
    {
     "data": {
      "text/plain": [
       "3"
      ]
     },
     "execution_count": 5,
     "metadata": {},
     "output_type": "execute_result"
    }
   ],
   "source": [
    "sum(np.random.rand(5) > 0.50) # Count of heads when flipping 5 coins"
   ]
  },
  {
   "cell_type": "code",
   "execution_count": 6,
   "id": "064a96b2",
   "metadata": {},
   "outputs": [
    {
     "data": {
      "text/plain": [
       "array([[0.04119477, 0.46816625, 0.88874673, 0.47625856, 0.41248898],\n",
       "       [0.61610654, 0.32141655, 0.58086926, 0.39661405, 0.02009137]])"
      ]
     },
     "execution_count": 6,
     "metadata": {},
     "output_type": "execute_result"
    }
   ],
   "source": [
    "np.random.rand(2,5)"
   ]
  },
  {
   "cell_type": "code",
   "execution_count": 7,
   "id": "843b7d7f",
   "metadata": {},
   "outputs": [
    {
     "data": {
      "text/plain": [
       "array([1, 0, 0, 1, 0, 1, 0, 0, 1, 0])"
      ]
     },
     "execution_count": 7,
     "metadata": {},
     "output_type": "execute_result"
    }
   ],
   "source": [
    "np.random.randint(0,2,10)  # Flipping 10 coins"
   ]
  },
  {
   "cell_type": "code",
   "execution_count": 8,
   "id": "3ff3dae9",
   "metadata": {},
   "outputs": [
    {
     "data": {
      "text/plain": [
       "5"
      ]
     },
     "execution_count": 8,
     "metadata": {},
     "output_type": "execute_result"
    }
   ],
   "source": [
    "sum(np.random.randint(0,2,10))    # Count the number of head when flipping 10 coins"
   ]
  },
  {
   "cell_type": "code",
   "execution_count": 9,
   "id": "265b9c64",
   "metadata": {},
   "outputs": [
    {
     "data": {
      "text/plain": [
       "array([1, 1, 1, 6, 3, 6, 2, 2, 6, 1])"
      ]
     },
     "execution_count": 9,
     "metadata": {},
     "output_type": "execute_result"
    }
   ],
   "source": [
    "np.random.randint(1,7, 10)  # Roll a die 10 times"
   ]
  },
  {
   "cell_type": "code",
   "execution_count": 10,
   "id": "0ed98d01",
   "metadata": {},
   "outputs": [
    {
     "data": {
      "image/png": "[encoded data removed]",
      "text/plain": [
       "<Figure size 432x288 with 1 Axes>"
      ]
     },
     "metadata": {},
     "output_type": "display_data"
    }
   ],
   "source": [
    "import matplotlib.pyplot as plt\n",
    "import seaborn as sns\n",
    "sns.set_theme(style=\"whitegrid\")\n",
    "# np.random.seed(555)       # By using seed you can make sure that each time you get the same numbers\n",
    "a = np.random.randint(1,7, 6000)\n",
    "sns.countplot(x=a)\n",
    "plt.show()"
   ]
  }
 ],
 "metadata": {
  "kernelspec": {
   "display_name": "Python 3 (ipykernel)",
   "language": "python",
   "name": "python3"
  },
  "language_info": {
   "codemirror_mode": {
    "name": "ipython",
    "version": 3
   },
   "file_extension": ".py",
   "mimetype": "text/x-python",
   "name": "python",
   "nbconvert_exporter": "python",
   "pygments_lexer": "ipython3",
   "version": "3.9.7"
  }
 },
 "nbformat": 4,
 "nbformat_minor": 5
}
