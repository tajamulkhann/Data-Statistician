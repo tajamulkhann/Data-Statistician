{
 "cells": [
  {
   "cell_type": "code",
   "execution_count": 2,
   "id": "f22adc37",
   "metadata": {},
   "outputs": [],
   "source": [
    "import pandas as pd\n",
    "import pingouin as pg\n",
    "import scikit_posthocs as sp\n",
    "import numpy as np"
   ]
  },
  {
   "cell_type": "code",
   "execution_count": 3,
   "id": "a684759a",
   "metadata": {},
   "outputs": [
    {
     "data": {
      "text/html": [
       "<div>\n",
       "<style scoped>\n",
       "    .dataframe tbody tr th:only-of-type {\n",
       "        vertical-align: middle;\n",
       "    }\n",
       "\n",
       "    .dataframe tbody tr th {\n",
       "        vertical-align: top;\n",
       "    }\n",
       "\n",
       "    .dataframe thead th {\n",
       "        text-align: right;\n",
       "    }\n",
       "</style>\n",
       "<table border=\"1\" class=\"dataframe\">\n",
       "  <thead>\n",
       "    <tr style=\"text-align: right;\">\n",
       "      <th></th>\n",
       "      <th>weight</th>\n",
       "      <th>group</th>\n",
       "    </tr>\n",
       "  </thead>\n",
       "  <tbody>\n",
       "    <tr>\n",
       "      <th>1</th>\n",
       "      <td>4.17</td>\n",
       "      <td>ctrl</td>\n",
       "    </tr>\n",
       "    <tr>\n",
       "      <th>2</th>\n",
       "      <td>5.58</td>\n",
       "      <td>ctrl</td>\n",
       "    </tr>\n",
       "    <tr>\n",
       "      <th>3</th>\n",
       "      <td>5.18</td>\n",
       "      <td>ctrl</td>\n",
       "    </tr>\n",
       "    <tr>\n",
       "      <th>4</th>\n",
       "      <td>6.11</td>\n",
       "      <td>ctrl</td>\n",
       "    </tr>\n",
       "    <tr>\n",
       "      <th>5</th>\n",
       "      <td>4.50</td>\n",
       "      <td>ctrl</td>\n",
       "    </tr>\n",
       "    <tr>\n",
       "      <th>6</th>\n",
       "      <td>4.61</td>\n",
       "      <td>ctrl</td>\n",
       "    </tr>\n",
       "    <tr>\n",
       "      <th>7</th>\n",
       "      <td>5.17</td>\n",
       "      <td>ctrl</td>\n",
       "    </tr>\n",
       "    <tr>\n",
       "      <th>8</th>\n",
       "      <td>4.53</td>\n",
       "      <td>ctrl</td>\n",
       "    </tr>\n",
       "    <tr>\n",
       "      <th>9</th>\n",
       "      <td>5.33</td>\n",
       "      <td>ctrl</td>\n",
       "    </tr>\n",
       "    <tr>\n",
       "      <th>10</th>\n",
       "      <td>5.14</td>\n",
       "      <td>ctrl</td>\n",
       "    </tr>\n",
       "    <tr>\n",
       "      <th>11</th>\n",
       "      <td>4.81</td>\n",
       "      <td>trt1</td>\n",
       "    </tr>\n",
       "    <tr>\n",
       "      <th>12</th>\n",
       "      <td>4.17</td>\n",
       "      <td>trt1</td>\n",
       "    </tr>\n",
       "    <tr>\n",
       "      <th>13</th>\n",
       "      <td>4.41</td>\n",
       "      <td>trt1</td>\n",
       "    </tr>\n",
       "    <tr>\n",
       "      <th>14</th>\n",
       "      <td>3.59</td>\n",
       "      <td>trt1</td>\n",
       "    </tr>\n",
       "    <tr>\n",
       "      <th>15</th>\n",
       "      <td>5.87</td>\n",
       "      <td>trt1</td>\n",
       "    </tr>\n",
       "    <tr>\n",
       "      <th>16</th>\n",
       "      <td>3.83</td>\n",
       "      <td>trt1</td>\n",
       "    </tr>\n",
       "    <tr>\n",
       "      <th>17</th>\n",
       "      <td>6.03</td>\n",
       "      <td>trt1</td>\n",
       "    </tr>\n",
       "    <tr>\n",
       "      <th>18</th>\n",
       "      <td>4.89</td>\n",
       "      <td>trt1</td>\n",
       "    </tr>\n",
       "    <tr>\n",
       "      <th>19</th>\n",
       "      <td>4.32</td>\n",
       "      <td>trt1</td>\n",
       "    </tr>\n",
       "    <tr>\n",
       "      <th>20</th>\n",
       "      <td>4.69</td>\n",
       "      <td>trt1</td>\n",
       "    </tr>\n",
       "    <tr>\n",
       "      <th>21</th>\n",
       "      <td>6.31</td>\n",
       "      <td>trt2</td>\n",
       "    </tr>\n",
       "    <tr>\n",
       "      <th>22</th>\n",
       "      <td>5.12</td>\n",
       "      <td>trt2</td>\n",
       "    </tr>\n",
       "    <tr>\n",
       "      <th>23</th>\n",
       "      <td>5.54</td>\n",
       "      <td>trt2</td>\n",
       "    </tr>\n",
       "    <tr>\n",
       "      <th>24</th>\n",
       "      <td>5.50</td>\n",
       "      <td>trt2</td>\n",
       "    </tr>\n",
       "    <tr>\n",
       "      <th>25</th>\n",
       "      <td>5.37</td>\n",
       "      <td>trt2</td>\n",
       "    </tr>\n",
       "    <tr>\n",
       "      <th>26</th>\n",
       "      <td>5.29</td>\n",
       "      <td>trt2</td>\n",
       "    </tr>\n",
       "    <tr>\n",
       "      <th>27</th>\n",
       "      <td>4.92</td>\n",
       "      <td>trt2</td>\n",
       "    </tr>\n",
       "    <tr>\n",
       "      <th>28</th>\n",
       "      <td>6.15</td>\n",
       "      <td>trt2</td>\n",
       "    </tr>\n",
       "    <tr>\n",
       "      <th>29</th>\n",
       "      <td>5.80</td>\n",
       "      <td>trt2</td>\n",
       "    </tr>\n",
       "    <tr>\n",
       "      <th>30</th>\n",
       "      <td>5.26</td>\n",
       "      <td>trt2</td>\n",
       "    </tr>\n",
       "  </tbody>\n",
       "</table>\n",
       "</div>"
      ],
      "text/plain": [
       "    weight group\n",
       "1     4.17  ctrl\n",
       "2     5.58  ctrl\n",
       "3     5.18  ctrl\n",
       "4     6.11  ctrl\n",
       "5     4.50  ctrl\n",
       "6     4.61  ctrl\n",
       "7     5.17  ctrl\n",
       "8     4.53  ctrl\n",
       "9     5.33  ctrl\n",
       "10    5.14  ctrl\n",
       "11    4.81  trt1\n",
       "12    4.17  trt1\n",
       "13    4.41  trt1\n",
       "14    3.59  trt1\n",
       "15    5.87  trt1\n",
       "16    3.83  trt1\n",
       "17    6.03  trt1\n",
       "18    4.89  trt1\n",
       "19    4.32  trt1\n",
       "20    4.69  trt1\n",
       "21    6.31  trt2\n",
       "22    5.12  trt2\n",
       "23    5.54  trt2\n",
       "24    5.50  trt2\n",
       "25    5.37  trt2\n",
       "26    5.29  trt2\n",
       "27    4.92  trt2\n",
       "28    6.15  trt2\n",
       "29    5.80  trt2\n",
       "30    5.26  trt2"
      ]
     },
     "execution_count": 3,
     "metadata": {},
     "output_type": "execute_result"
    }
   ],
   "source": [
    "data = \"C://Users//eli//Desktop//PlantGrowth.csv\"\n",
    "df = pd.read_csv(data, index_col=0)\n",
    "df"
   ]
  },
  {
   "cell_type": "markdown",
   "id": "c838f802",
   "metadata": {},
   "source": [
    "## Assumptions for ANOVA - normality (Shapiro-Wilk test) and homogeneity of variances (Bartlet, Levene, Brown-Forsythe Tests)."
   ]
  },
  {
   "cell_type": "code",
   "execution_count": 12,
   "id": "3f483630",
   "metadata": {},
   "outputs": [
    {
     "data": {
      "text/html": [
       "<div>\n",
       "<style scoped>\n",
       "    .dataframe tbody tr th:only-of-type {\n",
       "        vertical-align: middle;\n",
       "    }\n",
       "\n",
       "    .dataframe tbody tr th {\n",
       "        vertical-align: top;\n",
       "    }\n",
       "\n",
       "    .dataframe thead th {\n",
       "        text-align: right;\n",
       "    }\n",
       "</style>\n",
       "<table border=\"1\" class=\"dataframe\">\n",
       "  <thead>\n",
       "    <tr style=\"text-align: right;\">\n",
       "      <th></th>\n",
       "      <th>Source</th>\n",
       "      <th>SS</th>\n",
       "      <th>DF</th>\n",
       "      <th>MS</th>\n",
       "      <th>F</th>\n",
       "      <th>p-unc</th>\n",
       "      <th>np2</th>\n",
       "    </tr>\n",
       "  </thead>\n",
       "  <tbody>\n",
       "    <tr>\n",
       "      <th>0</th>\n",
       "      <td>group</td>\n",
       "      <td>3.76634</td>\n",
       "      <td>2</td>\n",
       "      <td>1.883170</td>\n",
       "      <td>4.846088</td>\n",
       "      <td>0.01591</td>\n",
       "      <td>0.264148</td>\n",
       "    </tr>\n",
       "    <tr>\n",
       "      <th>1</th>\n",
       "      <td>Within</td>\n",
       "      <td>10.49209</td>\n",
       "      <td>27</td>\n",
       "      <td>0.388596</td>\n",
       "      <td>NaN</td>\n",
       "      <td>NaN</td>\n",
       "      <td>NaN</td>\n",
       "    </tr>\n",
       "  </tbody>\n",
       "</table>\n",
       "</div>"
      ],
      "text/plain": [
       "   Source        SS  DF        MS         F    p-unc       np2\n",
       "0   group   3.76634   2  1.883170  4.846088  0.01591  0.264148\n",
       "1  Within  10.49209  27  0.388596       NaN      NaN       NaN"
      ]
     },
     "execution_count": 12,
     "metadata": {},
     "output_type": "execute_result"
    }
   ],
   "source": [
    "anova = pg.anova(data=df, dv='weight', between='group', detailed=True, effsize='np2')\n",
    "anova"
   ]
  },
  {
   "cell_type": "markdown",
   "id": "731eee23",
   "metadata": {},
   "source": [
    "## As can be seen in the ANOVA table above, we get the degrees of freedom, the mean square error, F- and p-values, as well as the partial eta squared when using pingouin."
   ]
  },
  {
   "cell_type": "markdown",
   "id": "4fa3e3a1",
   "metadata": {},
   "source": [
    "## η2 = 0.01 indicates a small effect; η2 = 0.06 indicates a medium effect; η2 = 0.14 indicates a large effect."
   ]
  },
  {
   "cell_type": "markdown",
   "id": "c0845943",
   "metadata": {},
   "source": [
    "## Tukey Post-Hoc"
   ]
  },
  {
   "cell_type": "code",
   "execution_count": 4,
   "id": "d724081c",
   "metadata": {
    "scrolled": true
   },
   "outputs": [
    {
     "data": {
      "text/html": [
       "<div>\n",
       "<style scoped>\n",
       "    .dataframe tbody tr th:only-of-type {\n",
       "        vertical-align: middle;\n",
       "    }\n",
       "\n",
       "    .dataframe tbody tr th {\n",
       "        vertical-align: top;\n",
       "    }\n",
       "\n",
       "    .dataframe thead th {\n",
       "        text-align: right;\n",
       "    }\n",
       "</style>\n",
       "<table border=\"1\" class=\"dataframe\">\n",
       "  <thead>\n",
       "    <tr style=\"text-align: right;\">\n",
       "      <th></th>\n",
       "      <th>A</th>\n",
       "      <th>B</th>\n",
       "      <th>mean(A)</th>\n",
       "      <th>mean(B)</th>\n",
       "      <th>diff</th>\n",
       "      <th>se</th>\n",
       "      <th>T</th>\n",
       "      <th>p-tukey</th>\n",
       "      <th>hedges</th>\n",
       "    </tr>\n",
       "  </thead>\n",
       "  <tbody>\n",
       "    <tr>\n",
       "      <th>0</th>\n",
       "      <td>ctrl</td>\n",
       "      <td>trt1</td>\n",
       "      <td>5.032</td>\n",
       "      <td>4.661</td>\n",
       "      <td>0.371</td>\n",
       "      <td>0.278782</td>\n",
       "      <td>1.330791</td>\n",
       "      <td>0.390871</td>\n",
       "      <td>0.570001</td>\n",
       "    </tr>\n",
       "    <tr>\n",
       "      <th>1</th>\n",
       "      <td>ctrl</td>\n",
       "      <td>trt2</td>\n",
       "      <td>5.032</td>\n",
       "      <td>5.526</td>\n",
       "      <td>-0.494</td>\n",
       "      <td>0.278782</td>\n",
       "      <td>-1.771996</td>\n",
       "      <td>0.197996</td>\n",
       "      <td>-0.758977</td>\n",
       "    </tr>\n",
       "    <tr>\n",
       "      <th>2</th>\n",
       "      <td>trt1</td>\n",
       "      <td>trt2</td>\n",
       "      <td>4.661</td>\n",
       "      <td>5.526</td>\n",
       "      <td>-0.865</td>\n",
       "      <td>0.278782</td>\n",
       "      <td>-3.102787</td>\n",
       "      <td>0.012006</td>\n",
       "      <td>-1.328977</td>\n",
       "    </tr>\n",
       "  </tbody>\n",
       "</table>\n",
       "</div>"
      ],
      "text/plain": [
       "      A     B  mean(A)  mean(B)   diff        se         T   p-tukey    hedges\n",
       "0  ctrl  trt1    5.032    4.661  0.371  0.278782  1.330791  0.390871  0.570001\n",
       "1  ctrl  trt2    5.032    5.526 -0.494  0.278782 -1.771996  0.197996 -0.758977\n",
       "2  trt1  trt2    4.661    5.526 -0.865  0.278782 -3.102787  0.012006 -1.328977"
      ]
     },
     "execution_count": 4,
     "metadata": {},
     "output_type": "execute_result"
    }
   ],
   "source": [
    "pg.pairwise_tukey(dv=\"weight\", between=\"group\", data=df)"
   ]
  },
  {
   "cell_type": "markdown",
   "id": "386a761e",
   "metadata": {},
   "source": [
    "## Holm Post-Hoc test"
   ]
  },
  {
   "cell_type": "code",
   "execution_count": 5,
   "id": "1655c08e",
   "metadata": {
    "scrolled": false
   },
   "outputs": [
    {
     "data": {
      "text/html": [
       "<div>\n",
       "<style scoped>\n",
       "    .dataframe tbody tr th:only-of-type {\n",
       "        vertical-align: middle;\n",
       "    }\n",
       "\n",
       "    .dataframe tbody tr th {\n",
       "        vertical-align: top;\n",
       "    }\n",
       "\n",
       "    .dataframe thead th {\n",
       "        text-align: right;\n",
       "    }\n",
       "</style>\n",
       "<table border=\"1\" class=\"dataframe\">\n",
       "  <thead>\n",
       "    <tr style=\"text-align: right;\">\n",
       "      <th></th>\n",
       "      <th>ctrl</th>\n",
       "      <th>trt1</th>\n",
       "      <th>trt2</th>\n",
       "    </tr>\n",
       "  </thead>\n",
       "  <tbody>\n",
       "    <tr>\n",
       "      <th>ctrl</th>\n",
       "      <td>1.000000</td>\n",
       "      <td>0.249023</td>\n",
       "      <td>0.093703</td>\n",
       "    </tr>\n",
       "    <tr>\n",
       "      <th>trt1</th>\n",
       "      <td>0.249023</td>\n",
       "      <td>1.000000</td>\n",
       "      <td>0.022555</td>\n",
       "    </tr>\n",
       "    <tr>\n",
       "      <th>trt2</th>\n",
       "      <td>0.093703</td>\n",
       "      <td>0.022555</td>\n",
       "      <td>1.000000</td>\n",
       "    </tr>\n",
       "  </tbody>\n",
       "</table>\n",
       "</div>"
      ],
      "text/plain": [
       "          ctrl      trt1      trt2\n",
       "ctrl  1.000000  0.249023  0.093703\n",
       "trt1  0.249023  1.000000  0.022555\n",
       "trt2  0.093703  0.022555  1.000000"
      ]
     },
     "execution_count": 5,
     "metadata": {},
     "output_type": "execute_result"
    }
   ],
   "source": [
    "sp.posthoc_ttest(df, group_col = \"group\", val_col = \"weight\", p_adjust = 'holm')"
   ]
  },
  {
   "cell_type": "markdown",
   "id": "49120a8c",
   "metadata": {},
   "source": [
    "## Dunnet Post-Hoc test"
   ]
  },
  {
   "cell_type": "code",
   "execution_count": 6,
   "id": "9d5a8d52",
   "metadata": {},
   "outputs": [
    {
     "data": {
      "text/plain": [
       "0.7164688018888191"
      ]
     },
     "execution_count": 6,
     "metadata": {},
     "output_type": "execute_result"
    }
   ],
   "source": [
    "n_in_one_group = 10\n",
    "MS_within = 0.388596\n",
    "Dunnet_critical = 2.57 * np.sqrt(2 * MS_within / n_in_one_group)\n",
    "Dunnet_critical"
   ]
  },
  {
   "cell_type": "code",
   "execution_count": 7,
   "id": "c343deda",
   "metadata": {},
   "outputs": [],
   "source": [
    "mean_diff_trt1_abs = 0.371\n",
    "mean_diff_trt2_abs = 0.494"
   ]
  },
  {
   "cell_type": "markdown",
   "id": "560e40cf",
   "metadata": {},
   "source": [
    "Conclusion: The mean differences are less than Dunnet_critical -> Fail to Reject the NULL Hypothesis. \n",
    "There is not enough evidence to canclude that the treatments are effective. "
   ]
  }
 ],
 "metadata": {
  "kernelspec": {
   "display_name": "Python 3 (ipykernel)",
   "language": "python",
   "name": "python3"
  },
  "language_info": {
   "codemirror_mode": {
    "name": "ipython",
    "version": 3
   },
   "file_extension": ".py",
   "mimetype": "text/x-python",
   "name": "python",
   "nbconvert_exporter": "python",
   "pygments_lexer": "ipython3",
   "version": "3.9.7"
  }
 },
 "nbformat": 4,
 "nbformat_minor": 5
}
