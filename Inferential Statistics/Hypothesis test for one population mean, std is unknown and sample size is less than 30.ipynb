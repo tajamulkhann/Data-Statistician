{
 "cells": [
  {
   "cell_type": "code",
   "execution_count": 7,
   "id": "2fa3655e",
   "metadata": {},
   "outputs": [],
   "source": [
    "import numpy as np\n",
    "import pandas as pd\n",
    "import matplotlib.pyplot as plt\n",
    "import seaborn as sns\n",
    "from scipy import stats"
   ]
  },
  {
   "cell_type": "code",
   "execution_count": 5,
   "id": "77b27e3b",
   "metadata": {},
   "outputs": [
    {
     "data": {
      "text/plain": [
       "0    148.5\n",
       "1    153.4\n",
       "2    150.9\n",
       "3    151.2\n",
       "dtype: float64"
      ]
     },
     "execution_count": 5,
     "metadata": {},
     "output_type": "execute_result"
    }
   ],
   "source": [
    "volume = pd.Series([148.5, 153.4, 150.9, 151.2])\n",
    "volume"
   ]
  },
  {
   "cell_type": "code",
   "execution_count": 6,
   "id": "c40176ef",
   "metadata": {},
   "outputs": [
    {
     "data": {
      "text/plain": [
       "count      4.000000\n",
       "mean     151.000000\n",
       "std        2.004994\n",
       "min      148.500000\n",
       "25%      150.300000\n",
       "50%      151.050000\n",
       "75%      151.750000\n",
       "max      153.400000\n",
       "dtype: float64"
      ]
     },
     "execution_count": 6,
     "metadata": {},
     "output_type": "execute_result"
    }
   ],
   "source": [
    "volume.describe()"
   ]
  },
  {
   "cell_type": "markdown",
   "id": "9ad23f52",
   "metadata": {},
   "source": [
    "# Sample size is equal to 4 and we don't know the population std. Test the claim that the mean volume of soda is not equal to 150cc with alpha = 0.05. The p_value is greater than 0.05. We fail to reject the null hypothesis that the mean volume is equal to 150cc."
   ]
  },
  {
   "cell_type": "code",
   "execution_count": 19,
   "id": "8accac2e",
   "metadata": {},
   "outputs": [],
   "source": [
    "null_mean = 150"
   ]
  },
  {
   "cell_type": "code",
   "execution_count": 20,
   "id": "3d79cc25",
   "metadata": {},
   "outputs": [
    {
     "data": {
      "text/plain": [
       "Ttest_1sampResult(statistic=0.997509336107632, pvalue=0.3920333832606524)"
      ]
     },
     "execution_count": 20,
     "metadata": {},
     "output_type": "execute_result"
    }
   ],
   "source": [
    "stats.ttest_1samp(volume, null_mean, alternative = \"two-sided\")"
   ]
  },
  {
   "cell_type": "markdown",
   "id": "bbe5c9b9",
   "metadata": {},
   "source": [
    "# Sample size is equal to 4 and we don't know the population std.Test the claim that the mean volume of soda is greater than 150cc with alpha = 0.05. The p_value is greater than 0.05. We fail to reject the null hypothesis that the mean volume is equal to 150cc."
   ]
  },
  {
   "cell_type": "code",
   "execution_count": 23,
   "id": "3e2ef4a2",
   "metadata": {},
   "outputs": [
    {
     "data": {
      "text/plain": [
       "Ttest_1sampResult(statistic=0.997509336107632, pvalue=0.1960166916303262)"
      ]
     },
     "execution_count": 23,
     "metadata": {},
     "output_type": "execute_result"
    }
   ],
   "source": [
    "stats.ttest_1samp(volume, null_mean, alternative = \"greater\")"
   ]
  },
  {
   "cell_type": "markdown",
   "id": "82063238",
   "metadata": {},
   "source": [
    "# Sample size is equal to 4 and we don't know the population std.Test the claim that the mean volume of soda is less than 150cc with alpha = 0.05. The p_value is greater than 0.05. We fail to reject the null hypothesis that the mean volume is equal to 150cc."
   ]
  },
  {
   "cell_type": "code",
   "execution_count": 22,
   "id": "221c0f76",
   "metadata": {},
   "outputs": [
    {
     "data": {
      "text/plain": [
       "Ttest_1sampResult(statistic=0.997509336107632, pvalue=0.8039833083696738)"
      ]
     },
     "execution_count": 22,
     "metadata": {},
     "output_type": "execute_result"
    }
   ],
   "source": [
    "stats.ttest_1samp(volume, null_mean, alternative = \"less\")"
   ]
  }
 ],
 "metadata": {
  "kernelspec": {
   "display_name": "Python 3 (ipykernel)",
   "language": "python",
   "name": "python3"
  },
  "language_info": {
   "codemirror_mode": {
    "name": "ipython",
    "version": 3
   },
   "file_extension": ".py",
   "mimetype": "text/x-python",
   "name": "python",
   "nbconvert_exporter": "python",
   "pygments_lexer": "ipython3",
   "version": "3.9.7"
  }
 },
 "nbformat": 4,
 "nbformat_minor": 5
}
