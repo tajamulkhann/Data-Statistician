{
 "cells": [
  {
   "cell_type": "code",
   "execution_count": 1,
   "id": "366b5903",
   "metadata": {},
   "outputs": [],
   "source": [
    "import numpy as np\n",
    "import pandas as pd\n",
    "import matplotlib.pyplot as plt\n",
    "import seaborn as sns\n",
    "import scipy.stats as stats"
   ]
  },
  {
   "cell_type": "markdown",
   "id": "20d09e11",
   "metadata": {},
   "source": [
    "# A sample of 51 bottles was selected. The standard deviation of these bottles was 2.35cc. Has it increased from the established 2cc? Confidence level is 90%. Answer: X2 is greater than chi_critical. We reject the null hypothesis that std is equal to 2 and accept the alternative hypothesis than std is increased from the established 2cc."
   ]
  },
  {
   "cell_type": "code",
   "execution_count": 3,
   "id": "59e60275",
   "metadata": {},
   "outputs": [
    {
     "data": {
      "text/plain": [
       "69.03125000000001"
      ]
     },
     "execution_count": 3,
     "metadata": {},
     "output_type": "execute_result"
    }
   ],
   "source": [
    "n = 51\n",
    "s = 2.35\n",
    "sigma = 2\n",
    "X2  = ((n - 1) * (s*s)) / (sigma*sigma)\n",
    "X2"
   ]
  },
  {
   "cell_type": "code",
   "execution_count": 8,
   "id": "25734e0a",
   "metadata": {},
   "outputs": [
    {
     "data": {
      "text/plain": [
       "63.167121005726315"
      ]
     },
     "execution_count": 8,
     "metadata": {},
     "output_type": "execute_result"
    }
   ],
   "source": [
    "alpha = 0.10\n",
    "df = 50\n",
    "chi_critical = stats.chi2.isf(alpha, df)\n",
    "chi_critical"
   ]
  },
  {
   "cell_type": "markdown",
   "id": "00e5ac0f",
   "metadata": {},
   "source": [
    "# A sample of 51 bottles was selected. The standard deviation of these bottles was 2.35cc. Has it changed from the established 2cc? Confidence level is 90%. Answer: X2 is greater than chi_critical_right. We reject the null hypothesis that std is equal to 2 and accept the alternative hypothesis than std is changed from the established 2cc."
   ]
  },
  {
   "cell_type": "code",
   "execution_count": 13,
   "id": "bb4d16a6",
   "metadata": {},
   "outputs": [
    {
     "data": {
      "text/plain": [
       "67.5048065495412"
      ]
     },
     "execution_count": 13,
     "metadata": {},
     "output_type": "execute_result"
    }
   ],
   "source": [
    "df = 50\n",
    "chi_critical_right = stats.chi2.isf(0.05, df)\n",
    "chi_critical_right"
   ]
  },
  {
   "cell_type": "code",
   "execution_count": 12,
   "id": "8974b879",
   "metadata": {},
   "outputs": [
    {
     "data": {
      "text/plain": [
       "34.76425168350175"
      ]
     },
     "execution_count": 12,
     "metadata": {},
     "output_type": "execute_result"
    }
   ],
   "source": [
    "chi_critical_left = stats.chi2.isf(0.95, df)\n",
    "chi_critical_left"
   ]
  }
 ],
 "metadata": {
  "kernelspec": {
   "display_name": "Python 3 (ipykernel)",
   "language": "python",
   "name": "python3"
  },
  "language_info": {
   "codemirror_mode": {
    "name": "ipython",
    "version": 3
   },
   "file_extension": ".py",
   "mimetype": "text/x-python",
   "name": "python",
   "nbconvert_exporter": "python",
   "pygments_lexer": "ipython3",
   "version": "3.9.7"
  }
 },
 "nbformat": 4,
 "nbformat_minor": 5
}
