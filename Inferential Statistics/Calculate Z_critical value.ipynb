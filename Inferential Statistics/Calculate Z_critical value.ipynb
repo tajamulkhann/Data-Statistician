{
 "cells": [
  {
   "cell_type": "code",
   "execution_count": 2,
   "id": "8825dc0a",
   "metadata": {},
   "outputs": [],
   "source": [
    "from scipy.stats import norm"
   ]
  },
  {
   "cell_type": "markdown",
   "id": "3e9f34bd",
   "metadata": {},
   "source": [
    "# One tail test"
   ]
  },
  {
   "cell_type": "markdown",
   "id": "1ff4a7bd",
   "metadata": {},
   "source": [
    "alpha is 0.1 on the right tаil; one tail test; 90% Confidence Level"
   ]
  },
  {
   "cell_type": "code",
   "execution_count": 11,
   "id": "ff174f29",
   "metadata": {},
   "outputs": [
    {
     "data": {
      "text/plain": [
       "1.2815515655446004"
      ]
     },
     "execution_count": 11,
     "metadata": {},
     "output_type": "execute_result"
    }
   ],
   "source": [
    "norm.ppf(0.90)"
   ]
  },
  {
   "cell_type": "code",
   "execution_count": 12,
   "id": "6181b702",
   "metadata": {},
   "outputs": [
    {
     "data": {
      "text/plain": [
       "1.2815515655446004"
      ]
     },
     "execution_count": 12,
     "metadata": {},
     "output_type": "execute_result"
    }
   ],
   "source": [
    "norm.isf(0.1)"
   ]
  },
  {
   "cell_type": "markdown",
   "id": "e8db962a",
   "metadata": {},
   "source": [
    "alpha is 0.05 on the right tail; one tail test; 95% Confidence Level"
   ]
  },
  {
   "cell_type": "code",
   "execution_count": 10,
   "id": "d1dda651",
   "metadata": {},
   "outputs": [
    {
     "data": {
      "text/plain": [
       "1.6448536269514722"
      ]
     },
     "execution_count": 10,
     "metadata": {},
     "output_type": "execute_result"
    }
   ],
   "source": [
    "norm.ppf(0.95)"
   ]
  },
  {
   "cell_type": "code",
   "execution_count": 9,
   "id": "df1049dc",
   "metadata": {},
   "outputs": [
    {
     "data": {
      "text/plain": [
       "1.6448536269514729"
      ]
     },
     "execution_count": 9,
     "metadata": {},
     "output_type": "execute_result"
    }
   ],
   "source": [
    "norm.isf(0.05)"
   ]
  },
  {
   "cell_type": "markdown",
   "id": "48d27cd4",
   "metadata": {},
   "source": [
    "alpha is 0.01 on the right tail; one tail test; 99% Confidence Level"
   ]
  },
  {
   "cell_type": "code",
   "execution_count": 13,
   "id": "2ac2b314",
   "metadata": {},
   "outputs": [
    {
     "data": {
      "text/plain": [
       "2.3263478740408408"
      ]
     },
     "execution_count": 13,
     "metadata": {},
     "output_type": "execute_result"
    }
   ],
   "source": [
    "norm.ppf(0.99)"
   ]
  },
  {
   "cell_type": "code",
   "execution_count": 15,
   "id": "64ac4e68",
   "metadata": {},
   "outputs": [
    {
     "data": {
      "text/plain": [
       "2.3263478740408408"
      ]
     },
     "execution_count": 15,
     "metadata": {},
     "output_type": "execute_result"
    }
   ],
   "source": [
    "norm.isf(0.01)"
   ]
  },
  {
   "cell_type": "markdown",
   "id": "9dfb0fe4",
   "metadata": {},
   "source": [
    "# Two tail test"
   ]
  },
  {
   "cell_type": "markdown",
   "id": "d08454a4",
   "metadata": {},
   "source": [
    "alpha is 0.1; two right tail test; 90% Confidence Level"
   ]
  },
  {
   "cell_type": "code",
   "execution_count": 6,
   "id": "e2c4204f",
   "metadata": {},
   "outputs": [
    {
     "data": {
      "text/plain": [
       "1.6448536269514729"
      ]
     },
     "execution_count": 6,
     "metadata": {},
     "output_type": "execute_result"
    }
   ],
   "source": [
    "norm.isf(0.05)"
   ]
  },
  {
   "cell_type": "code",
   "execution_count": 9,
   "id": "c9a29d94",
   "metadata": {},
   "outputs": [
    {
     "data": {
      "text/plain": [
       "1.6448536269514722"
      ]
     },
     "execution_count": 9,
     "metadata": {},
     "output_type": "execute_result"
    }
   ],
   "source": [
    "norm.ppf(0.95)"
   ]
  },
  {
   "cell_type": "markdown",
   "id": "574aed27",
   "metadata": {},
   "source": [
    "alpha is 0.05; two right tail test; 95% Confidence Level\n"
   ]
  },
  {
   "cell_type": "code",
   "execution_count": 5,
   "id": "b5c3344f",
   "metadata": {},
   "outputs": [
    {
     "data": {
      "text/plain": [
       "1.9599639845400545"
      ]
     },
     "execution_count": 5,
     "metadata": {},
     "output_type": "execute_result"
    }
   ],
   "source": [
    "norm.isf(0.025)"
   ]
  },
  {
   "cell_type": "code",
   "execution_count": 8,
   "id": "674f4706",
   "metadata": {},
   "outputs": [
    {
     "data": {
      "text/plain": [
       "1.959963984540054"
      ]
     },
     "execution_count": 8,
     "metadata": {},
     "output_type": "execute_result"
    }
   ],
   "source": [
    "norm.ppf(0.975)"
   ]
  },
  {
   "cell_type": "markdown",
   "id": "38327bc8",
   "metadata": {},
   "source": [
    "alpha is 0.01; two right tail test; 99% Confidence Level"
   ]
  },
  {
   "cell_type": "code",
   "execution_count": 3,
   "id": "a60ecd74",
   "metadata": {},
   "outputs": [
    {
     "data": {
      "text/plain": [
       "2.575829303548901"
      ]
     },
     "execution_count": 3,
     "metadata": {},
     "output_type": "execute_result"
    }
   ],
   "source": [
    "norm.isf(0.005)"
   ]
  },
  {
   "cell_type": "code",
   "execution_count": 4,
   "id": "f99c525e",
   "metadata": {},
   "outputs": [
    {
     "data": {
      "text/plain": [
       "2.5758293035489004"
      ]
     },
     "execution_count": 4,
     "metadata": {},
     "output_type": "execute_result"
    }
   ],
   "source": [
    "norm.ppf(0.995)"
   ]
  }
 ],
 "metadata": {
  "kernelspec": {
   "display_name": "Python 3 (ipykernel)",
   "language": "python",
   "name": "python3"
  },
  "language_info": {
   "codemirror_mode": {
    "name": "ipython",
    "version": 3
   },
   "file_extension": ".py",
   "mimetype": "text/x-python",
   "name": "python",
   "nbconvert_exporter": "python",
   "pygments_lexer": "ipython3",
   "version": "3.9.7"
  }
 },
 "nbformat": 4,
 "nbformat_minor": 5
}
