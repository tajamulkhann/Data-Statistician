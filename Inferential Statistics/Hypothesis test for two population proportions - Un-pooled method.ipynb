{
 "cells": [
  {
   "cell_type": "code",
   "execution_count": 1,
   "id": "fb02fdef",
   "metadata": {},
   "outputs": [],
   "source": [
    "import numpy as np\n",
    "import pandas as pd\n",
    "import matplotlib.pyplot as plt\n",
    "from statsmodels.stats import proportion"
   ]
  },
  {
   "cell_type": "markdown",
   "id": "e5079314",
   "metadata": {},
   "source": [
    "# From a vendor A we test 200 pieces and find 30 defects. From a vendor B we test 100 pieces and find 10 defects. Is there more than 0.1% difference in the quality of those two vendors? Can we support the claim that the first vendor produces more than 0.1% deffects than the second vendor? alpha = 0.05; Null Hypothesis: p1 - p2 = 0.1; Alternative Hypothesis: p1 - p2 > 0.1 Answer: pvalue is greater than 0.05 => we fail to reject the Null Hypothesis. We don't have enough evidence to support the claim that the first vendor produces more than 0.1% deffects than the second vendor."
   ]
  },
  {
   "cell_type": "code",
   "execution_count": 11,
   "id": "85f7d636",
   "metadata": {},
   "outputs": [],
   "source": [
    "count1 = 30\n",
    "n1 = 200\n",
    "count2 = 10\n",
    "n2 = 100\n",
    "D = 0.1"
   ]
  },
  {
   "cell_type": "code",
   "execution_count": 12,
   "id": "8378fbe8",
   "metadata": {},
   "outputs": [
    {
     "data": {
      "text/plain": [
       "<class 'statsmodels.stats.base.HolderTuple'>\n",
       "statistic = -1.3361730130099716\n",
       "pvalue = 0.9092536351433332\n",
       "compare = diff\n",
       "method = score\n",
       "variance = 0.0014002791322165534\n",
       "alternative = larger\n",
       "prop1_null = 0.1733004139574388\n",
       "prop2_null = 0.0733004139574388\n",
       "tuple = (-1.3361730130099716, 0.9092536351433332)\n",
       "diff = 0.04999999999999999\n",
       "ratio = 1.4999999999999998\n",
       "odds_ratio = 1.588235294117647\n",
       "value = 0.1"
      ]
     },
     "execution_count": 12,
     "metadata": {},
     "output_type": "execute_result"
    }
   ],
   "source": [
    "proportion.test_proportions_2indep(count1, n1, count2, n2, value = D, alternative = \"larger\", method = \"score\")"
   ]
  }
 ],
 "metadata": {
  "kernelspec": {
   "display_name": "Python 3 (ipykernel)",
   "language": "python",
   "name": "python3"
  },
  "language_info": {
   "codemirror_mode": {
    "name": "ipython",
    "version": 3
   },
   "file_extension": ".py",
   "mimetype": "text/x-python",
   "name": "python",
   "nbconvert_exporter": "python",
   "pygments_lexer": "ipython3",
   "version": "3.9.7"
  }
 },
 "nbformat": 4,
 "nbformat_minor": 5
}
