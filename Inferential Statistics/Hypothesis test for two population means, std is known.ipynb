{
 "cells": [
  {
   "cell_type": "code",
   "execution_count": 2,
   "id": "9e7aacb2",
   "metadata": {},
   "outputs": [],
   "source": [
    "import numpy as np\n",
    "import pandas as pd\n",
    "import matplotlib.pyplot as plt\n",
    "import seaborn as sns\n",
    "from statsmodels.stats.weightstats import ztest"
   ]
  },
  {
   "cell_type": "code",
   "execution_count": 4,
   "id": "9cf15a3a",
   "metadata": {},
   "outputs": [
    {
     "data": {
      "text/html": [
       "<div>\n",
       "<style scoped>\n",
       "    .dataframe tbody tr th:only-of-type {\n",
       "        vertical-align: middle;\n",
       "    }\n",
       "\n",
       "    .dataframe tbody tr th {\n",
       "        vertical-align: top;\n",
       "    }\n",
       "\n",
       "    .dataframe thead th {\n",
       "        text-align: right;\n",
       "    }\n",
       "</style>\n",
       "<table border=\"1\" class=\"dataframe\">\n",
       "  <thead>\n",
       "    <tr style=\"text-align: right;\">\n",
       "      <th></th>\n",
       "      <th>Volume</th>\n",
       "      <th>Machine</th>\n",
       "    </tr>\n",
       "  </thead>\n",
       "  <tbody>\n",
       "    <tr>\n",
       "      <th>0</th>\n",
       "      <td>154.27</td>\n",
       "      <td>Machine 1</td>\n",
       "    </tr>\n",
       "    <tr>\n",
       "      <th>1</th>\n",
       "      <td>150.03</td>\n",
       "      <td>Machine 1</td>\n",
       "    </tr>\n",
       "    <tr>\n",
       "      <th>2</th>\n",
       "      <td>151.14</td>\n",
       "      <td>Machine 1</td>\n",
       "    </tr>\n",
       "    <tr>\n",
       "      <th>3</th>\n",
       "      <td>145.47</td>\n",
       "      <td>Machine 1</td>\n",
       "    </tr>\n",
       "    <tr>\n",
       "      <th>4</th>\n",
       "      <td>149.71</td>\n",
       "      <td>Machine 1</td>\n",
       "    </tr>\n",
       "  </tbody>\n",
       "</table>\n",
       "</div>"
      ],
      "text/plain": [
       "   Volume    Machine\n",
       "0  154.27  Machine 1\n",
       "1  150.03  Machine 1\n",
       "2  151.14  Machine 1\n",
       "3  145.47  Machine 1\n",
       "4  149.71  Machine 1"
      ]
     },
     "execution_count": 4,
     "metadata": {},
     "output_type": "execute_result"
    }
   ],
   "source": [
    "data = pd.read_csv(\"C:\\\\Users\\\\eli\\\\Desktop\\\\Two_Machines.csv\")\n",
    "data.head()"
   ]
  },
  {
   "cell_type": "code",
   "execution_count": 14,
   "id": "4513a8e3",
   "metadata": {},
   "outputs": [
    {
     "name": "stdout",
     "output_type": "stream",
     "text": [
      "<class 'pandas.core.frame.DataFrame'>\n",
      "RangeIndex: 200 entries, 0 to 199\n",
      "Data columns (total 2 columns):\n",
      " #   Column   Non-Null Count  Dtype  \n",
      "---  ------   --------------  -----  \n",
      " 0   Volume   200 non-null    float64\n",
      " 1   Machine  200 non-null    object \n",
      "dtypes: float64(1), object(1)\n",
      "memory usage: 3.2+ KB\n"
     ]
    }
   ],
   "source": [
    "data.info()"
   ]
  },
  {
   "cell_type": "code",
   "execution_count": 16,
   "id": "d66e0be0",
   "metadata": {},
   "outputs": [
    {
     "data": {
      "image/png": "[encoded data removed]",
      "text/plain": [
       "<Figure size 360x360 with 1 Axes>"
      ]
     },
     "metadata": {
      "needs_background": "light"
     },
     "output_type": "display_data"
    }
   ],
   "source": [
    "sns.catplot(data = data, x = \"Machine\", y = \"Volume\", kind = \"box\")\n",
    "plt.show()"
   ]
  },
  {
   "cell_type": "code",
   "execution_count": 19,
   "id": "70e77595",
   "metadata": {},
   "outputs": [
    {
     "data": {
      "text/html": [
       "<div>\n",
       "<style scoped>\n",
       "    .dataframe tbody tr th:only-of-type {\n",
       "        vertical-align: middle;\n",
       "    }\n",
       "\n",
       "    .dataframe tbody tr th {\n",
       "        vertical-align: top;\n",
       "    }\n",
       "\n",
       "    .dataframe thead th {\n",
       "        text-align: right;\n",
       "    }\n",
       "</style>\n",
       "<table border=\"1\" class=\"dataframe\">\n",
       "  <thead>\n",
       "    <tr style=\"text-align: right;\">\n",
       "      <th></th>\n",
       "      <th>Volume</th>\n",
       "      <th>Machine</th>\n",
       "    </tr>\n",
       "  </thead>\n",
       "  <tbody>\n",
       "    <tr>\n",
       "      <th>0</th>\n",
       "      <td>154.27</td>\n",
       "      <td>Machine 1</td>\n",
       "    </tr>\n",
       "    <tr>\n",
       "      <th>1</th>\n",
       "      <td>150.03</td>\n",
       "      <td>Machine 1</td>\n",
       "    </tr>\n",
       "    <tr>\n",
       "      <th>2</th>\n",
       "      <td>151.14</td>\n",
       "      <td>Machine 1</td>\n",
       "    </tr>\n",
       "    <tr>\n",
       "      <th>3</th>\n",
       "      <td>145.47</td>\n",
       "      <td>Machine 1</td>\n",
       "    </tr>\n",
       "    <tr>\n",
       "      <th>4</th>\n",
       "      <td>149.71</td>\n",
       "      <td>Machine 1</td>\n",
       "    </tr>\n",
       "    <tr>\n",
       "      <th>...</th>\n",
       "      <td>...</td>\n",
       "      <td>...</td>\n",
       "    </tr>\n",
       "    <tr>\n",
       "      <th>95</th>\n",
       "      <td>152.85</td>\n",
       "      <td>Machine 1</td>\n",
       "    </tr>\n",
       "    <tr>\n",
       "      <th>96</th>\n",
       "      <td>151.03</td>\n",
       "      <td>Machine 1</td>\n",
       "    </tr>\n",
       "    <tr>\n",
       "      <th>97</th>\n",
       "      <td>152.08</td>\n",
       "      <td>Machine 1</td>\n",
       "    </tr>\n",
       "    <tr>\n",
       "      <th>98</th>\n",
       "      <td>152.29</td>\n",
       "      <td>Machine 1</td>\n",
       "    </tr>\n",
       "    <tr>\n",
       "      <th>99</th>\n",
       "      <td>148.18</td>\n",
       "      <td>Machine 1</td>\n",
       "    </tr>\n",
       "  </tbody>\n",
       "</table>\n",
       "<p>100 rows × 2 columns</p>\n",
       "</div>"
      ],
      "text/plain": [
       "    Volume    Machine\n",
       "0   154.27  Machine 1\n",
       "1   150.03  Machine 1\n",
       "2   151.14  Machine 1\n",
       "3   145.47  Machine 1\n",
       "4   149.71  Machine 1\n",
       "..     ...        ...\n",
       "95  152.85  Machine 1\n",
       "96  151.03  Machine 1\n",
       "97  152.08  Machine 1\n",
       "98  152.29  Machine 1\n",
       "99  148.18  Machine 1\n",
       "\n",
       "[100 rows x 2 columns]"
      ]
     },
     "execution_count": 19,
     "metadata": {},
     "output_type": "execute_result"
    }
   ],
   "source": [
    "machine1 = data[data[\"Machine\"] == \"Machine 1\"]\n",
    "machine1"
   ]
  },
  {
   "cell_type": "code",
   "execution_count": 18,
   "id": "dcac99bd",
   "metadata": {},
   "outputs": [
    {
     "data": {
      "text/html": [
       "<div>\n",
       "<style scoped>\n",
       "    .dataframe tbody tr th:only-of-type {\n",
       "        vertical-align: middle;\n",
       "    }\n",
       "\n",
       "    .dataframe tbody tr th {\n",
       "        vertical-align: top;\n",
       "    }\n",
       "\n",
       "    .dataframe thead th {\n",
       "        text-align: right;\n",
       "    }\n",
       "</style>\n",
       "<table border=\"1\" class=\"dataframe\">\n",
       "  <thead>\n",
       "    <tr style=\"text-align: right;\">\n",
       "      <th></th>\n",
       "      <th>Volume</th>\n",
       "      <th>Machine</th>\n",
       "    </tr>\n",
       "  </thead>\n",
       "  <tbody>\n",
       "    <tr>\n",
       "      <th>100</th>\n",
       "      <td>152.87</td>\n",
       "      <td>Machine 2</td>\n",
       "    </tr>\n",
       "    <tr>\n",
       "      <th>101</th>\n",
       "      <td>154.68</td>\n",
       "      <td>Machine 2</td>\n",
       "    </tr>\n",
       "    <tr>\n",
       "      <th>102</th>\n",
       "      <td>154.21</td>\n",
       "      <td>Machine 2</td>\n",
       "    </tr>\n",
       "    <tr>\n",
       "      <th>103</th>\n",
       "      <td>155.91</td>\n",
       "      <td>Machine 2</td>\n",
       "    </tr>\n",
       "    <tr>\n",
       "      <th>104</th>\n",
       "      <td>152.63</td>\n",
       "      <td>Machine 2</td>\n",
       "    </tr>\n",
       "    <tr>\n",
       "      <th>...</th>\n",
       "      <td>...</td>\n",
       "      <td>...</td>\n",
       "    </tr>\n",
       "    <tr>\n",
       "      <th>195</th>\n",
       "      <td>152.05</td>\n",
       "      <td>Machine 2</td>\n",
       "    </tr>\n",
       "    <tr>\n",
       "      <th>196</th>\n",
       "      <td>151.41</td>\n",
       "      <td>Machine 2</td>\n",
       "    </tr>\n",
       "    <tr>\n",
       "      <th>197</th>\n",
       "      <td>153.76</td>\n",
       "      <td>Machine 2</td>\n",
       "    </tr>\n",
       "    <tr>\n",
       "      <th>198</th>\n",
       "      <td>150.75</td>\n",
       "      <td>Machine 2</td>\n",
       "    </tr>\n",
       "    <tr>\n",
       "      <th>199</th>\n",
       "      <td>147.80</td>\n",
       "      <td>Machine 2</td>\n",
       "    </tr>\n",
       "  </tbody>\n",
       "</table>\n",
       "<p>100 rows × 2 columns</p>\n",
       "</div>"
      ],
      "text/plain": [
       "     Volume    Machine\n",
       "100  152.87  Machine 2\n",
       "101  154.68  Machine 2\n",
       "102  154.21  Machine 2\n",
       "103  155.91  Machine 2\n",
       "104  152.63  Machine 2\n",
       "..      ...        ...\n",
       "195  152.05  Machine 2\n",
       "196  151.41  Machine 2\n",
       "197  153.76  Machine 2\n",
       "198  150.75  Machine 2\n",
       "199  147.80  Machine 2\n",
       "\n",
       "[100 rows x 2 columns]"
      ]
     },
     "execution_count": 18,
     "metadata": {},
     "output_type": "execute_result"
    }
   ],
   "source": [
    "machine2 = data[data[\"Machine\"] == \"Machine 2\"]\n",
    "machine2"
   ]
  },
  {
   "cell_type": "markdown",
   "id": "cff358df",
   "metadata": {},
   "source": [
    "# For two machines two samples were drawn. Is there difference in these two machines? Check at 95% confidence level. Answer- p_value is less than 0.05 therefore we have enough evidence to reject the null hypothesis for equality of these two machines. We accept that there is statistically significant difference between these two machines."
   ]
  },
  {
   "cell_type": "code",
   "execution_count": 28,
   "id": "5f61551d",
   "metadata": {},
   "outputs": [
    {
     "data": {
      "text/plain": [
       "(-2.189406040190184, 0.028567341032618248)"
      ]
     },
     "execution_count": 28,
     "metadata": {},
     "output_type": "execute_result"
    }
   ],
   "source": [
    "ztest(machine1[\"Volume\"], machine2[\"Volume\"], value = 0, alternative = \"two-sided\")"
   ]
  },
  {
   "cell_type": "markdown",
   "id": "04d8562c",
   "metadata": {},
   "source": [
    "# We don't have enough evidence to support the claim that the alternative hypothesis is larger- the volume of the machine1 is larger."
   ]
  },
  {
   "cell_type": "code",
   "execution_count": 29,
   "id": "ba6e02d7",
   "metadata": {},
   "outputs": [
    {
     "data": {
      "text/plain": [
       "(-2.189406040190184, 0.9857163294836909)"
      ]
     },
     "execution_count": 29,
     "metadata": {},
     "output_type": "execute_result"
    }
   ],
   "source": [
    "ztest(machine1[\"Volume\"], machine2[\"Volume\"], value = 0, alternative = \"larger\")"
   ]
  },
  {
   "cell_type": "markdown",
   "id": "f357eb6e",
   "metadata": {},
   "source": [
    "# We have enough evidence to support the claim that the alternative hypothesis is smaller - the volume of the machine1 is smaller."
   ]
  },
  {
   "cell_type": "code",
   "execution_count": 30,
   "id": "526995b5",
   "metadata": {},
   "outputs": [
    {
     "data": {
      "text/plain": [
       "(-2.189406040190184, 0.014283670516309124)"
      ]
     },
     "execution_count": 30,
     "metadata": {},
     "output_type": "execute_result"
    }
   ],
   "source": [
    "ztest(machine1[\"Volume\"], machine2[\"Volume\"], value = 0, alternative = \"smaller\")"
   ]
  }
 ],
 "metadata": {
  "kernelspec": {
   "display_name": "Python 3 (ipykernel)",
   "language": "python",
   "name": "python3"
  },
  "language_info": {
   "codemirror_mode": {
    "name": "ipython",
    "version": 3
   },
   "file_extension": ".py",
   "mimetype": "text/x-python",
   "name": "python",
   "nbconvert_exporter": "python",
   "pygments_lexer": "ipython3",
   "version": "3.9.7"
  }
 },
 "nbformat": 4,
 "nbformat_minor": 5
}
