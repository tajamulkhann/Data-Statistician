{
 "cells": [
  {
   "cell_type": "code",
   "execution_count": 1,
   "id": "9aa9c4c7",
   "metadata": {},
   "outputs": [],
   "source": [
    "import numpy as np\n",
    "import pandas as pd\n",
    "import matplotlib.pyplot as plt\n",
    "import seaborn as sns\n",
    "from scipy import stats"
   ]
  },
  {
   "cell_type": "markdown",
   "id": "680b2c6b",
   "metadata": {},
   "source": [
    "# Example: samples from two machines A and B have the following volumes in bottles (assume equal variances). Is the mean different? Calculate with 95% Confidence level. Answer: We reject the Null Hypothesis and accept the Alternative Hypothesis that there is statistically significant difference between the means."
   ]
  },
  {
   "cell_type": "code",
   "execution_count": 5,
   "id": "a92517fa",
   "metadata": {},
   "outputs": [
    {
     "data": {
      "text/plain": [
       "array([150, 152, 154, 152, 151])"
      ]
     },
     "execution_count": 5,
     "metadata": {},
     "output_type": "execute_result"
    }
   ],
   "source": [
    "m1 = np.array([150, 152, 154, 152, 151])\n",
    "m1"
   ]
  },
  {
   "cell_type": "code",
   "execution_count": 6,
   "id": "b94e2d34",
   "metadata": {},
   "outputs": [
    {
     "data": {
      "text/plain": [
       "array([156, 155, 158, 155, 154])"
      ]
     },
     "execution_count": 6,
     "metadata": {},
     "output_type": "execute_result"
    }
   ],
   "source": [
    "m2 = np.array([156, 155, 158, 155, 154])\n",
    "m2"
   ]
  },
  {
   "cell_type": "code",
   "execution_count": 7,
   "id": "45ed7bde",
   "metadata": {},
   "outputs": [
    {
     "data": {
      "text/plain": [
       "Ttest_indResult(statistic=-4.005551702879929, pvalue=0.003919295477128331)"
      ]
     },
     "execution_count": 7,
     "metadata": {},
     "output_type": "execute_result"
    }
   ],
   "source": [
    "stats.ttest_ind(m1, m2, equal_var = True, alternative = \"two-sided\")"
   ]
  },
  {
   "cell_type": "markdown",
   "id": "89cff4bd",
   "metadata": {},
   "source": [
    "# We can not assume that the first machine has greater mean than the second machine."
   ]
  },
  {
   "cell_type": "code",
   "execution_count": 8,
   "id": "26332195",
   "metadata": {},
   "outputs": [
    {
     "data": {
      "text/plain": [
       "Ttest_indResult(statistic=-4.005551702879929, pvalue=0.9980403522614358)"
      ]
     },
     "execution_count": 8,
     "metadata": {},
     "output_type": "execute_result"
    }
   ],
   "source": [
    "stats.ttest_ind(m1, m2, equal_var = True, alternative = \"greater\")"
   ]
  },
  {
   "cell_type": "markdown",
   "id": "3b1a7d5b",
   "metadata": {},
   "source": [
    "# We can assume that the first machine has less mean than the second machine."
   ]
  },
  {
   "cell_type": "code",
   "execution_count": 9,
   "id": "de2322ef",
   "metadata": {},
   "outputs": [
    {
     "data": {
      "text/plain": [
       "Ttest_indResult(statistic=-4.005551702879929, pvalue=0.0019596477385641657)"
      ]
     },
     "execution_count": 9,
     "metadata": {},
     "output_type": "execute_result"
    }
   ],
   "source": [
    "stats.ttest_ind(m1, m2, equal_var = True, alternative = \"less\")"
   ]
  }
 ],
 "metadata": {
  "kernelspec": {
   "display_name": "Python 3 (ipykernel)",
   "language": "python",
   "name": "python3"
  },
  "language_info": {
   "codemirror_mode": {
    "name": "ipython",
    "version": 3
   },
   "file_extension": ".py",
   "mimetype": "text/x-python",
   "name": "python",
   "nbconvert_exporter": "python",
   "pygments_lexer": "ipython3",
   "version": "3.9.7"
  }
 },
 "nbformat": 4,
 "nbformat_minor": 5
}
