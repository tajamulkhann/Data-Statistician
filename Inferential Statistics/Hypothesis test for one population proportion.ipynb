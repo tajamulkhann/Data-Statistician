{
 "cells": [
  {
   "cell_type": "code",
   "execution_count": 2,
   "id": "accc64d4",
   "metadata": {},
   "outputs": [],
   "source": [
    "import numpy as np\n",
    "import pandas as pd\n",
    "import matplotlib.pyplot as plt\n",
    "import seaborn as sns\n",
    "import scipy.stats as stats"
   ]
  },
  {
   "cell_type": "markdown",
   "id": "d28444ca",
   "metadata": {},
   "source": [
    "# Smoking rate in the town in the past was 0.21%. In the sample size with 100 only 14 are smokers. Has smoking habit changed? Alpha is 0.05. Answer: p-value is greater than 0.05. Fail to reject the null hypothesis that 0.21% are smokers."
   ]
  },
  {
   "cell_type": "code",
   "execution_count": 7,
   "id": "b243cfe1",
   "metadata": {},
   "outputs": [
    {
     "data": {
      "text/plain": [
       "BinomTestResult(k=14, n=100, alternative='two-sided', proportion_estimate=0.14, pvalue=0.10920815720825927)"
      ]
     },
     "execution_count": 7,
     "metadata": {},
     "output_type": "execute_result"
    }
   ],
   "source": [
    "k = 14\n",
    "n = 100\n",
    "p = 0.21\n",
    "stats.binomtest(k, n, p, alternative='two-sided')"
   ]
  },
  {
   "cell_type": "markdown",
   "id": "e6f68d6c",
   "metadata": {},
   "source": [
    "# Smoking rate in the town in the past was 0.21%. In the sample size with 100 only 14 are smokers. Has smoking habit increased? Alpha is 0.05. Answer: p-value is greater than 0.05. Fail to reject the null hypothesis that 0.21% are smokers."
   ]
  },
  {
   "cell_type": "code",
   "execution_count": 8,
   "id": "371aa7b5",
   "metadata": {},
   "outputs": [
    {
     "data": {
      "text/plain": [
       "BinomTestResult(k=14, n=100, alternative='greater', proportion_estimate=0.14, pvalue=0.972081170608883)"
      ]
     },
     "execution_count": 8,
     "metadata": {},
     "output_type": "execute_result"
    }
   ],
   "source": [
    "stats.binomtest(k, n, p, alternative='greater')"
   ]
  },
  {
   "cell_type": "markdown",
   "id": "b5139819",
   "metadata": {},
   "source": [
    "# Smoking rate in the town in the past was 0.21%. In the sample size with 100 only 14 are smokers. Has smoking habit decreased? Alpha is 0.05. Answer: p-value is equal to 0.05. We reject the null hypothesis that only 0.21% are smokers. We accept the Alternative Hypothesis that smoking rate is less than 0.21%. "
   ]
  },
  {
   "cell_type": "code",
   "execution_count": 9,
   "id": "206e2d33",
   "metadata": {},
   "outputs": [
    {
     "data": {
      "text/plain": [
       "BinomTestResult(k=14, n=100, alternative='less', proportion_estimate=0.14, pvalue=0.05042460221552124)"
      ]
     },
     "execution_count": 9,
     "metadata": {},
     "output_type": "execute_result"
    }
   ],
   "source": [
    "stats.binomtest(k, n, p, alternative='less')"
   ]
  }
 ],
 "metadata": {
  "kernelspec": {
   "display_name": "Python 3 (ipykernel)",
   "language": "python",
   "name": "python3"
  },
  "language_info": {
   "codemirror_mode": {
    "name": "ipython",
    "version": 3
   },
   "file_extension": ".py",
   "mimetype": "text/x-python",
   "name": "python",
   "nbconvert_exporter": "python",
   "pygments_lexer": "ipython3",
   "version": "3.9.7"
  }
 },
 "nbformat": 4,
 "nbformat_minor": 5
}
