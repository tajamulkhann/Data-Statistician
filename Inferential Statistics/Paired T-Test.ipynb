{
 "cells": [
  {
   "cell_type": "code",
   "execution_count": 1,
   "id": "65318cdd",
   "metadata": {},
   "outputs": [],
   "source": [
    "import numpy as np\n",
    "import pandas as pd\n",
    "import matplotlib.pyplot as plt\n",
    "import seaborn as sns\n",
    "from scipy import stats"
   ]
  },
  {
   "cell_type": "markdown",
   "id": "f72d126d",
   "metadata": {},
   "source": [
    "# Paired differences need to follow a normal distribution to use a Paired T-Test, but if they don't follow a normal distribution - use Wilcoxon Matched Pair Test. Before and after medicine BP was measured. Is there a difference with 95% confidence level? Answer: fail to reject the Null Hypothesis that there is not a difference."
   ]
  },
  {
   "cell_type": "code",
   "execution_count": 3,
   "id": "a5ffdf48",
   "metadata": {},
   "outputs": [],
   "source": [
    "bp_before = np.array([120,122,143,100,109])\n",
    "bp_after = np.array([122,120,141,109,109])"
   ]
  },
  {
   "cell_type": "code",
   "execution_count": 4,
   "id": "176da4de",
   "metadata": {},
   "outputs": [
    {
     "data": {
      "text/plain": [
       "Ttest_relResult(statistic=-0.6864064729836442, pvalue=0.5301776477578163)"
      ]
     },
     "execution_count": 4,
     "metadata": {},
     "output_type": "execute_result"
    }
   ],
   "source": [
    "stats.ttest_rel(bp_before, bp_after, alternative=\"two-sided\")"
   ]
  },
  {
   "cell_type": "markdown",
   "id": "3636657f",
   "metadata": {},
   "source": [
    "# Answer: fail to reject the Null Hypothesis that there is not a difference.¶"
   ]
  },
  {
   "cell_type": "code",
   "execution_count": 5,
   "id": "01aa902b",
   "metadata": {},
   "outputs": [
    {
     "data": {
      "text/plain": [
       "Ttest_relResult(statistic=-0.6864064729836442, pvalue=0.7349111761210918)"
      ]
     },
     "execution_count": 5,
     "metadata": {},
     "output_type": "execute_result"
    }
   ],
   "source": [
    "stats.ttest_rel(bp_before, bp_after, alternative=\"greater\")"
   ]
  },
  {
   "cell_type": "markdown",
   "id": "7bd32f63",
   "metadata": {},
   "source": [
    "# Answer: fail to reject the Null Hypothesis that there is not a difference.¶"
   ]
  },
  {
   "cell_type": "code",
   "execution_count": 6,
   "id": "26c62b8e",
   "metadata": {},
   "outputs": [
    {
     "data": {
      "text/plain": [
       "Ttest_relResult(statistic=-0.6864064729836442, pvalue=0.26508882387890814)"
      ]
     },
     "execution_count": 6,
     "metadata": {},
     "output_type": "execute_result"
    }
   ],
   "source": [
    "stats.ttest_rel(bp_before, bp_after, alternative=\"less\")"
   ]
  }
 ],
 "metadata": {
  "kernelspec": {
   "display_name": "Python 3 (ipykernel)",
   "language": "python",
   "name": "python3"
  },
  "language_info": {
   "codemirror_mode": {
    "name": "ipython",
    "version": 3
   },
   "file_extension": ".py",
   "mimetype": "text/x-python",
   "name": "python",
   "nbconvert_exporter": "python",
   "pygments_lexer": "ipython3",
   "version": "3.9.7"
  }
 },
 "nbformat": 4,
 "nbformat_minor": 5
}
