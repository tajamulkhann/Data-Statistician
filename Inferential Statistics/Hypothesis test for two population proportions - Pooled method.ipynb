{
 "cells": [
  {
   "cell_type": "code",
   "execution_count": 1,
   "id": "01e8639a",
   "metadata": {},
   "outputs": [],
   "source": [
    "import numpy as np\n",
    "import pandas as pd\n",
    "import matplotlib.pyplot as plt\n",
    "from statsmodels.stats import proportion"
   ]
  },
  {
   "cell_type": "markdown",
   "id": "c409e322",
   "metadata": {},
   "source": [
    "# From a vendor A we test 200 pieces and find 30 defects. From a vendor B we test 100 pieced and find 10 defects.Is there a sigficant difference in the quality of those two vendors? alpha = 0.05; Null Hypothesis: p1 - p2 = 0; Alternative Hypothesis: p1 - p2 ≠ 0 Answer: pvalue is greater than 0.05 => we fail to reject the Null Hypothesis. We don't have enough evidence to support the claim that there is a sigficant difference in the quality of those two vendors."
   ]
  },
  {
   "cell_type": "code",
   "execution_count": 8,
   "id": "6fe9c030",
   "metadata": {},
   "outputs": [],
   "source": [
    "count1 = 30\n",
    "n1 = 200\n",
    "count2 = 10\n",
    "n2 = 100"
   ]
  },
  {
   "cell_type": "code",
   "execution_count": 12,
   "id": "755562f8",
   "metadata": {},
   "outputs": [
    {
     "data": {
      "text/plain": [
       "<class 'statsmodels.stats.base.HolderTuple'>\n",
       "statistic = 1.1989578808281796\n",
       "pvalue = 0.2305443235633593\n",
       "compare = diff\n",
       "method = score\n",
       "variance = 0.001739130434782609\n",
       "alternative = two-sided\n",
       "prop1_null = 0.13333333333333333\n",
       "prop2_null = 0.13333333333333333\n",
       "tuple = (1.1989578808281796, 0.2305443235633593)\n",
       "diff = 0.04999999999999999\n",
       "ratio = 1.4999999999999998\n",
       "odds_ratio = 1.588235294117647\n",
       "value = 0"
      ]
     },
     "execution_count": 12,
     "metadata": {},
     "output_type": "execute_result"
    }
   ],
   "source": [
    "proportion.test_proportions_2indep(count1, n1, count2, n2, value = None, alternative = \"two-sided\", method = \"score\")"
   ]
  },
  {
   "cell_type": "markdown",
   "id": "fd314d23",
   "metadata": {},
   "source": [
    " # We don't have enough evidence to support the claim that the first vendor has more deffects."
   ]
  },
  {
   "cell_type": "code",
   "execution_count": 13,
   "id": "686df4a1",
   "metadata": {},
   "outputs": [
    {
     "data": {
      "text/plain": [
       "<class 'statsmodels.stats.base.HolderTuple'>\n",
       "statistic = 1.1989578808281796\n",
       "pvalue = 0.11527216178167965\n",
       "compare = diff\n",
       "method = score\n",
       "variance = 0.001739130434782609\n",
       "alternative = larger\n",
       "prop1_null = 0.13333333333333333\n",
       "prop2_null = 0.13333333333333333\n",
       "tuple = (1.1989578808281796, 0.11527216178167965)\n",
       "diff = 0.04999999999999999\n",
       "ratio = 1.4999999999999998\n",
       "odds_ratio = 1.588235294117647\n",
       "value = 0"
      ]
     },
     "execution_count": 13,
     "metadata": {},
     "output_type": "execute_result"
    }
   ],
   "source": [
    "proportion.test_proportions_2indep(count1, n1, count2, n2, value = None, alternative = \"larger\", method = \"score\")"
   ]
  },
  {
   "cell_type": "markdown",
   "id": "35c3e1b9",
   "metadata": {},
   "source": [
    " # We don't have enough evidence to support the claim that the first vendor has less deffects."
   ]
  },
  {
   "cell_type": "code",
   "execution_count": 14,
   "id": "e783775d",
   "metadata": {},
   "outputs": [
    {
     "data": {
      "text/plain": [
       "<class 'statsmodels.stats.base.HolderTuple'>\n",
       "statistic = 1.1989578808281796\n",
       "pvalue = 0.8847278382183204\n",
       "compare = diff\n",
       "method = score\n",
       "variance = 0.001739130434782609\n",
       "alternative = smaller\n",
       "prop1_null = 0.13333333333333333\n",
       "prop2_null = 0.13333333333333333\n",
       "tuple = (1.1989578808281796, 0.8847278382183204)\n",
       "diff = 0.04999999999999999\n",
       "ratio = 1.4999999999999998\n",
       "odds_ratio = 1.588235294117647\n",
       "value = 0"
      ]
     },
     "execution_count": 14,
     "metadata": {},
     "output_type": "execute_result"
    }
   ],
   "source": [
    "proportion.test_proportions_2indep(count1, n1, count2, n2, value = None, alternative = \"smaller\", method = \"score\")"
   ]
  }
 ],
 "metadata": {
  "kernelspec": {
   "display_name": "Python 3 (ipykernel)",
   "language": "python",
   "name": "python3"
  },
  "language_info": {
   "codemirror_mode": {
    "name": "ipython",
    "version": 3
   },
   "file_extension": ".py",
   "mimetype": "text/x-python",
   "name": "python",
   "nbconvert_exporter": "python",
   "pygments_lexer": "ipython3",
   "version": "3.9.7"
  }
 },
 "nbformat": 4,
 "nbformat_minor": 5
}
