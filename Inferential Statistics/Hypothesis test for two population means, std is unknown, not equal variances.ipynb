{
 "cells": [
  {
   "cell_type": "code",
   "execution_count": 1,
   "id": "efe2d321",
   "metadata": {},
   "outputs": [],
   "source": [
    "import numpy as np\n",
    "import pandas as pd\n",
    "import matplotlib.pyplot as plt\n",
    "import seaborn as sns\n",
    "from scipy import stats"
   ]
  },
  {
   "cell_type": "markdown",
   "id": "1b57fea4",
   "metadata": {},
   "source": [
    "# Example: samples from two machines A and C have the following volumes in bottles (assume not equal variances). Is the mean different? Calculate with 95% Confidence level. Answer: We fail to reject the Null Hypothesis that there is not statistically significant difference between the means."
   ]
  },
  {
   "cell_type": "code",
   "execution_count": 2,
   "id": "058c18b5",
   "metadata": {},
   "outputs": [
    {
     "data": {
      "text/plain": [
       "array([150, 152, 154, 152, 151])"
      ]
     },
     "execution_count": 2,
     "metadata": {},
     "output_type": "execute_result"
    }
   ],
   "source": [
    "m1 = np.array([150, 152, 154, 152, 151])\n",
    "m1"
   ]
  },
  {
   "cell_type": "code",
   "execution_count": 4,
   "id": "b1810a01",
   "metadata": {},
   "outputs": [
    {
     "data": {
      "text/plain": [
       "array([144, 162, 177, 150, 140])"
      ]
     },
     "execution_count": 4,
     "metadata": {},
     "output_type": "execute_result"
    }
   ],
   "source": [
    "m3 = np.array([144, 162, 177, 150, 140])\n",
    "m3"
   ]
  },
  {
   "cell_type": "code",
   "execution_count": 5,
   "id": "7e4e5ea6",
   "metadata": {},
   "outputs": [
    {
     "data": {
      "text/plain": [
       "Ttest_indResult(statistic=-0.4146442144313621, pvalue=0.699289145758865)"
      ]
     },
     "execution_count": 5,
     "metadata": {},
     "output_type": "execute_result"
    }
   ],
   "source": [
    "stats.ttest_ind(m1, m3, equal_var= False, alternative = \"two-sided\")"
   ]
  },
  {
   "cell_type": "markdown",
   "id": "140544c7",
   "metadata": {},
   "source": [
    "# We fail to reject the Null Hypothesis that there is not statistically significant difference between the means."
   ]
  },
  {
   "cell_type": "code",
   "execution_count": 6,
   "id": "53257b3b",
   "metadata": {},
   "outputs": [
    {
     "data": {
      "text/plain": [
       "Ttest_indResult(statistic=-0.4146442144313621, pvalue=0.6503554271205675)"
      ]
     },
     "execution_count": 6,
     "metadata": {},
     "output_type": "execute_result"
    }
   ],
   "source": [
    "stats.ttest_ind(m1, m3, equal_var= False, alternative = \"greater\")"
   ]
  },
  {
   "cell_type": "markdown",
   "id": "c122254b",
   "metadata": {},
   "source": [
    "# We fail to reject the Null Hypothesis that there is not statistically significant difference between the means."
   ]
  },
  {
   "cell_type": "code",
   "execution_count": 9,
   "id": "2d565989",
   "metadata": {},
   "outputs": [
    {
     "data": {
      "text/plain": [
       "Ttest_indResult(statistic=-0.4146442144313621, pvalue=0.3496445728794325)"
      ]
     },
     "execution_count": 9,
     "metadata": {},
     "output_type": "execute_result"
    }
   ],
   "source": [
    "stats.ttest_ind(m1, m3, equal_var= False, alternative = \"less\")"
   ]
  }
 ],
 "metadata": {
  "kernelspec": {
   "display_name": "Python 3 (ipykernel)",
   "language": "python",
   "name": "python3"
  },
  "language_info": {
   "codemirror_mode": {
    "name": "ipython",
    "version": 3
   },
   "file_extension": ".py",
   "mimetype": "text/x-python",
   "name": "python",
   "nbconvert_exporter": "python",
   "pygments_lexer": "ipython3",
   "version": "3.9.7"
  }
 },
 "nbformat": 4,
 "nbformat_minor": 5
}
